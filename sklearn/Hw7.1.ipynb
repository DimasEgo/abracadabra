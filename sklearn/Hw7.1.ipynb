{
 "cells": [
  {
   "cell_type": "code",
   "execution_count": 45,
   "id": "4e91fbbf",
   "metadata": {},
   "outputs": [],
   "source": [
    "from sklearn.datasets import load_wine\n",
    "from sklearn.multiclass import OneVsRestClassifier\n",
    "from sklearn.svm import SVC\n",
    "from sklearn.model_selection import train_test_split"
   ]
  },
  {
   "cell_type": "code",
   "execution_count": 46,
   "id": "75f49e7a",
   "metadata": {},
   "outputs": [],
   "source": [
    "X, y = load_wine(return_X_y=True)"
   ]
  },
  {
   "cell_type": "markdown",
   "id": "6e87f7fd",
   "metadata": {},
   "source": [
    "Classifier with default test_size(0.25)"
   ]
  },
  {
   "cell_type": "code",
   "execution_count": 47,
   "id": "4c96e0ff",
   "metadata": {},
   "outputs": [],
   "source": [
    "X_train, X_test, y_train, y_test = train_test_split(X, y, test_size = 0.25, shuffle=True)"
   ]
  },
  {
   "cell_type": "code",
   "execution_count": 48,
   "id": "9f240e41",
   "metadata": {},
   "outputs": [
    {
     "data": {
      "text/plain": [
       "0.7111111111111111"
      ]
     },
     "execution_count": 48,
     "metadata": {},
     "output_type": "execute_result"
    }
   ],
   "source": [
    "clf = OneVsRestClassifier(SVC()).fit(X_train, y_train)\n",
    "clf.score(X_test,y_test)"
   ]
  },
  {
   "cell_type": "code",
   "execution_count": 49,
   "id": "3fd24f2e",
   "metadata": {},
   "outputs": [],
   "source": [
    "y_pred = clf.predict(X_test)"
   ]
  },
  {
   "cell_type": "code",
   "execution_count": 50,
   "id": "8f90711a",
   "metadata": {},
   "outputs": [
    {
     "data": {
      "text/plain": [
       "array([ True,  True,  True,  True,  True, False,  True, False,  True,\n",
       "       False,  True, False,  True,  True,  True,  True,  True,  True,\n",
       "       False,  True,  True,  True,  True,  True,  True, False, False,\n",
       "        True,  True, False,  True, False,  True,  True,  True, False,\n",
       "        True,  True,  True,  True, False, False,  True,  True, False])"
      ]
     },
     "execution_count": 50,
     "metadata": {},
     "output_type": "execute_result"
    }
   ],
   "source": [
    "(y_pred == y_test)"
   ]
  },
  {
   "cell_type": "code",
   "execution_count": 51,
   "id": "b4cb0e0d",
   "metadata": {},
   "outputs": [
    {
     "data": {
      "text/plain": [
       "array([13])"
      ]
     },
     "execution_count": 51,
     "metadata": {},
     "output_type": "execute_result"
    }
   ],
   "source": [
    "y_test.shape - (y_pred == y_test).sum()"
   ]
  },
  {
   "cell_type": "code",
   "execution_count": 52,
   "id": "2e0c5b7e",
   "metadata": {},
   "outputs": [],
   "source": [
    "#13 wrong predictions"
   ]
  },
  {
   "cell_type": "markdown",
   "id": "062bc42e",
   "metadata": {},
   "source": [
    "Classifier with test size 0.66"
   ]
  },
  {
   "cell_type": "code",
   "execution_count": 53,
   "id": "2bf78dc5",
   "metadata": {},
   "outputs": [],
   "source": [
    "X_train_2, X_test_2, y_train_2, y_test_2 = train_test_split(X, y, test_size = 0.66, shuffle=True)"
   ]
  },
  {
   "cell_type": "code",
   "execution_count": 54,
   "id": "17bd3037",
   "metadata": {},
   "outputs": [
    {
     "data": {
      "text/plain": [
       "0.6741573033707865"
      ]
     },
     "execution_count": 54,
     "metadata": {},
     "output_type": "execute_result"
    }
   ],
   "source": [
    "clf_2 = OneVsRestClassifier(SVC()).fit(X_train_2, y_train_2)\n",
    "clf_2.score(X,y)"
   ]
  },
  {
   "cell_type": "code",
   "execution_count": 55,
   "id": "353cbba1",
   "metadata": {},
   "outputs": [],
   "source": [
    "y_pred_2 = clf_2.predict(X_test_2)"
   ]
  },
  {
   "cell_type": "code",
   "execution_count": 56,
   "id": "0ba6bb1d",
   "metadata": {},
   "outputs": [
    {
     "data": {
      "text/plain": [
       "array([False,  True, False,  True, False, False, False,  True, False,\n",
       "       False, False,  True, False,  True, False,  True,  True,  True,\n",
       "        True,  True,  True, False,  True, False,  True, False, False,\n",
       "        True,  True,  True, False, False,  True, False, False,  True,\n",
       "        True,  True, False,  True, False, False,  True, False,  True,\n",
       "        True, False,  True, False, False,  True,  True, False, False,\n",
       "        True,  True,  True,  True,  True,  True,  True,  True,  True,\n",
       "       False,  True,  True,  True,  True, False,  True,  True,  True,\n",
       "        True,  True,  True,  True,  True,  True,  True,  True, False,\n",
       "        True,  True,  True, False, False,  True, False,  True,  True,\n",
       "        True,  True, False,  True,  True, False,  True, False,  True,\n",
       "       False,  True,  True,  True, False,  True,  True,  True,  True,\n",
       "        True,  True, False,  True,  True,  True,  True,  True,  True,\n",
       "        True])"
      ]
     },
     "execution_count": 56,
     "metadata": {},
     "output_type": "execute_result"
    }
   ],
   "source": [
    "(y_pred_2 == y_test_2)"
   ]
  },
  {
   "cell_type": "code",
   "execution_count": 57,
   "id": "6567853b",
   "metadata": {},
   "outputs": [
    {
     "data": {
      "text/plain": [
       "array([39])"
      ]
     },
     "execution_count": 57,
     "metadata": {},
     "output_type": "execute_result"
    }
   ],
   "source": [
    "y_test_2.shape - (y_pred_2 == y_test_2).sum()"
   ]
  },
  {
   "cell_type": "code",
   "execution_count": null,
   "id": "0f2d3133",
   "metadata": {},
   "outputs": [],
   "source": [
    "#39 wrong predictions"
   ]
  }
 ],
 "metadata": {
  "kernelspec": {
   "display_name": "Python 3 (ipykernel)",
   "language": "python",
   "name": "python3"
  },
  "language_info": {
   "codemirror_mode": {
    "name": "ipython",
    "version": 3
   },
   "file_extension": ".py",
   "mimetype": "text/x-python",
   "name": "python",
   "nbconvert_exporter": "python",
   "pygments_lexer": "ipython3",
   "version": "3.9.13"
  }
 },
 "nbformat": 4,
 "nbformat_minor": 5
}
