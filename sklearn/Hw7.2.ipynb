{
 "cells": [
  {
   "cell_type": "code",
   "execution_count": 19,
   "id": "69ad5710",
   "metadata": {},
   "outputs": [],
   "source": [
    "from sklearn.datasets import load_iris\n",
    "from sklearn.multiclass import OneVsRestClassifier\n",
    "from sklearn.svm import SVC\n",
    "from sklearn.model_selection import train_test_split"
   ]
  },
  {
   "cell_type": "code",
   "execution_count": 20,
   "id": "2ac7d50b",
   "metadata": {},
   "outputs": [],
   "source": [
    "X, y = load_iris(return_X_y=True)"
   ]
  },
  {
   "cell_type": "markdown",
   "id": "c5881aa3",
   "metadata": {},
   "source": [
    "Classifier with default test_size 0,25"
   ]
  },
  {
   "cell_type": "code",
   "execution_count": 21,
   "id": "5e185661",
   "metadata": {},
   "outputs": [],
   "source": [
    "X_train, X_test, y_train, y_test = train_test_split(X, y, shuffle=True)"
   ]
  },
  {
   "cell_type": "code",
   "execution_count": 22,
   "id": "88721bb5",
   "metadata": {},
   "outputs": [
    {
     "data": {
      "text/plain": [
       "0.9473684210526315"
      ]
     },
     "execution_count": 22,
     "metadata": {},
     "output_type": "execute_result"
    }
   ],
   "source": [
    "clf = OneVsRestClassifier(SVC()).fit(X_train, y_train)\n",
    "clf.score(X_test, y_test)"
   ]
  },
  {
   "cell_type": "code",
   "execution_count": 23,
   "id": "4ba889a0",
   "metadata": {},
   "outputs": [
    {
     "data": {
      "text/plain": [
       "array([0, 2, 0, 2, 0, 2, 1, 0, 0, 2, 0, 0, 1, 1, 1, 0, 1, 2, 2, 1, 0, 1,\n",
       "       0, 2, 0, 2, 1, 2, 2, 1, 0, 2, 1, 0, 2, 2, 0, 2])"
      ]
     },
     "execution_count": 23,
     "metadata": {},
     "output_type": "execute_result"
    }
   ],
   "source": [
    "y_pred = clf.predict(X_test)\n",
    "y_pred"
   ]
  },
  {
   "cell_type": "code",
   "execution_count": 24,
   "id": "f7502a5e",
   "metadata": {},
   "outputs": [
    {
     "data": {
      "text/plain": [
       "array([0, 2, 0, 2, 0, 2, 2, 0, 0, 2, 0, 0, 1, 1, 1, 0, 1, 2, 2, 1, 0, 1,\n",
       "       0, 2, 0, 2, 1, 1, 2, 1, 0, 2, 1, 0, 2, 2, 0, 2])"
      ]
     },
     "execution_count": 24,
     "metadata": {},
     "output_type": "execute_result"
    }
   ],
   "source": [
    "y_test"
   ]
  },
  {
   "cell_type": "code",
   "execution_count": 25,
   "id": "076b7040",
   "metadata": {},
   "outputs": [
    {
     "data": {
      "text/plain": [
       "array([ True,  True,  True,  True,  True,  True, False,  True,  True,\n",
       "        True,  True,  True,  True,  True,  True,  True,  True,  True,\n",
       "        True,  True,  True,  True,  True,  True,  True,  True,  True,\n",
       "       False,  True,  True,  True,  True,  True,  True,  True,  True,\n",
       "        True,  True])"
      ]
     },
     "execution_count": 25,
     "metadata": {},
     "output_type": "execute_result"
    }
   ],
   "source": [
    "y_pred == y_test"
   ]
  },
  {
   "cell_type": "code",
   "execution_count": 26,
   "id": "ccad3028",
   "metadata": {},
   "outputs": [
    {
     "data": {
      "text/plain": [
       "array([2])"
      ]
     },
     "execution_count": 26,
     "metadata": {},
     "output_type": "execute_result"
    }
   ],
   "source": [
    "y_test.shape - (y_pred == y_test).sum()"
   ]
  },
  {
   "cell_type": "code",
   "execution_count": 27,
   "id": "23a2669d",
   "metadata": {},
   "outputs": [],
   "source": [
    "# 2 wrong predictions"
   ]
  },
  {
   "cell_type": "markdown",
   "id": "5203700a",
   "metadata": {},
   "source": [
    "Classifier with test_size 0,66"
   ]
  },
  {
   "cell_type": "code",
   "execution_count": 28,
   "id": "3b60af63",
   "metadata": {},
   "outputs": [],
   "source": [
    "X_train_2, X_test_2, y_train_2, y_test_2 = train_test_split(X, y, test_size=0.66, shuffle=True)"
   ]
  },
  {
   "cell_type": "code",
   "execution_count": 29,
   "id": "b846d24b",
   "metadata": {},
   "outputs": [
    {
     "data": {
      "text/plain": [
       "0.9292929292929293"
      ]
     },
     "execution_count": 29,
     "metadata": {},
     "output_type": "execute_result"
    }
   ],
   "source": [
    "clf_2 = OneVsRestClassifier(SVC()).fit(X_train_2, y_train_2)\n",
    "clf_2.score(X_test_2, y_test_2)"
   ]
  },
  {
   "cell_type": "code",
   "execution_count": 30,
   "id": "2b30ea73",
   "metadata": {},
   "outputs": [],
   "source": [
    "y_pred_2 = clf_2.predict(X_test_2)"
   ]
  },
  {
   "cell_type": "code",
   "execution_count": 31,
   "id": "de5cd7d1",
   "metadata": {},
   "outputs": [
    {
     "data": {
      "text/plain": [
       "array([0, 1, 1, 0, 2, 0, 0, 0, 0, 0, 1, 1, 2, 0, 1, 2, 1, 2, 0, 2, 0, 2,\n",
       "       2, 2, 1, 2, 2, 0, 0, 0, 0, 2, 1, 0, 1, 1, 0, 1, 1, 2, 1, 2, 0, 1,\n",
       "       0, 0, 1, 2, 1, 2, 1, 2, 1, 0, 0, 2, 0, 1, 1, 0, 2, 2, 1, 2, 0, 2,\n",
       "       1, 2, 2, 1, 0, 0, 2, 2, 0, 0, 0, 1, 0, 2, 2, 0, 0, 2, 1, 2, 2, 0,\n",
       "       1, 2, 1, 2, 1, 1, 2, 2, 1, 2, 0])"
      ]
     },
     "execution_count": 31,
     "metadata": {},
     "output_type": "execute_result"
    }
   ],
   "source": [
    "y_pred_2"
   ]
  },
  {
   "cell_type": "code",
   "execution_count": 32,
   "id": "12d9d8b3",
   "metadata": {},
   "outputs": [
    {
     "data": {
      "text/plain": [
       "array([0, 1, 1, 0, 2, 0, 0, 0, 0, 0, 1, 1, 2, 0, 1, 2, 1, 2, 0, 2, 0, 2,\n",
       "       2, 1, 1, 1, 2, 0, 0, 0, 0, 1, 1, 0, 1, 1, 0, 1, 1, 2, 1, 2, 0, 1,\n",
       "       0, 0, 1, 2, 1, 2, 1, 2, 1, 0, 0, 2, 0, 1, 1, 0, 1, 2, 1, 2, 0, 2,\n",
       "       2, 2, 2, 1, 0, 0, 2, 1, 0, 0, 0, 1, 0, 2, 2, 0, 0, 2, 1, 2, 2, 0,\n",
       "       1, 2, 1, 2, 1, 1, 2, 2, 1, 1, 0])"
      ]
     },
     "execution_count": 32,
     "metadata": {},
     "output_type": "execute_result"
    }
   ],
   "source": [
    "y_test_2"
   ]
  },
  {
   "cell_type": "code",
   "execution_count": 33,
   "id": "d1097a0b",
   "metadata": {},
   "outputs": [
    {
     "data": {
      "text/plain": [
       "array([ True,  True,  True,  True,  True,  True,  True,  True,  True,\n",
       "        True,  True,  True,  True,  True,  True,  True,  True,  True,\n",
       "        True,  True,  True,  True,  True, False,  True, False,  True,\n",
       "        True,  True,  True,  True, False,  True,  True,  True,  True,\n",
       "        True,  True,  True,  True,  True,  True,  True,  True,  True,\n",
       "        True,  True,  True,  True,  True,  True,  True,  True,  True,\n",
       "        True,  True,  True,  True,  True,  True, False,  True,  True,\n",
       "        True,  True,  True, False,  True,  True,  True,  True,  True,\n",
       "        True, False,  True,  True,  True,  True,  True,  True,  True,\n",
       "        True,  True,  True,  True,  True,  True,  True,  True,  True,\n",
       "        True,  True,  True,  True,  True,  True,  True, False,  True])"
      ]
     },
     "execution_count": 33,
     "metadata": {},
     "output_type": "execute_result"
    }
   ],
   "source": [
    "y_pred_2 == y_test_2"
   ]
  },
  {
   "cell_type": "code",
   "execution_count": 34,
   "id": "826774f0",
   "metadata": {},
   "outputs": [
    {
     "data": {
      "text/plain": [
       "array([7])"
      ]
     },
     "execution_count": 34,
     "metadata": {},
     "output_type": "execute_result"
    }
   ],
   "source": [
    "y_test_2.shape - (y_pred_2 == y_test_2).sum()"
   ]
  },
  {
   "cell_type": "code",
   "execution_count": 35,
   "id": "941f0d45",
   "metadata": {},
   "outputs": [],
   "source": [
    "# 7 wrong predictions"
   ]
  },
  {
   "cell_type": "code",
   "execution_count": null,
   "id": "9c9dec13",
   "metadata": {},
   "outputs": [],
   "source": []
  }
 ],
 "metadata": {
  "kernelspec": {
   "display_name": "Python 3 (ipykernel)",
   "language": "python",
   "name": "python3"
  },
  "language_info": {
   "codemirror_mode": {
    "name": "ipython",
    "version": 3
   },
   "file_extension": ".py",
   "mimetype": "text/x-python",
   "name": "python",
   "nbconvert_exporter": "python",
   "pygments_lexer": "ipython3",
   "version": "3.9.13"
  }
 },
 "nbformat": 4,
 "nbformat_minor": 5
}
