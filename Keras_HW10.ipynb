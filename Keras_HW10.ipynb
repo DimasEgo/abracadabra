{
 "cells": [
  {
   "cell_type": "code",
   "execution_count": 32,
   "id": "585f85df",
   "metadata": {},
   "outputs": [],
   "source": [
    "from keras.datasets import fashion_mnist\n",
    "from keras.models import Sequential\n",
    "from keras.layers import Dense, Flatten\n",
    "import matplotlib.pyplot as plt\n",
    "import numpy as np\n",
    "from tensorflow import keras\n",
    "import tensorflow as tf"
   ]
  },
  {
   "cell_type": "code",
   "execution_count": 2,
   "id": "8f9a92b5",
   "metadata": {},
   "outputs": [
    {
     "name": "stdout",
     "output_type": "stream",
     "text": [
      "Downloading data from https://storage.googleapis.com/tensorflow/tf-keras-datasets/train-labels-idx1-ubyte.gz\n",
      "29515/29515 [==============================] - 0s 0us/step\n",
      "Downloading data from https://storage.googleapis.com/tensorflow/tf-keras-datasets/train-images-idx3-ubyte.gz\n",
      "26421880/26421880 [==============================] - 3s 0us/step\n",
      "Downloading data from https://storage.googleapis.com/tensorflow/tf-keras-datasets/t10k-labels-idx1-ubyte.gz\n",
      "5148/5148 [==============================] - 0s 0s/step\n",
      "Downloading data from https://storage.googleapis.com/tensorflow/tf-keras-datasets/t10k-images-idx3-ubyte.gz\n",
      "4422102/4422102 [==============================] - 1s 0us/step\n"
     ]
    }
   ],
   "source": [
    "(x_train, y_train), (x_test, y_test) = fashion_mnist.load_data()"
   ]
  },
  {
   "cell_type": "code",
   "execution_count": 3,
   "id": "b6d29dbb",
   "metadata": {},
   "outputs": [],
   "source": [
    "x_train = x_train / 255\n",
    "x_test = x_test / 255"
   ]
  },
  {
   "cell_type": "code",
   "execution_count": 4,
   "id": "b0ea484b",
   "metadata": {},
   "outputs": [],
   "source": [
    "model = Sequential([\n",
    "    Flatten(input_shape=(28,28)),\n",
    "    Dense(256, activation='relu'),\n",
    "    Dense(512, activation='relu'),\n",
    "    Dense(10, activation='softmax'),\n",
    "])"
   ]
  },
  {
   "cell_type": "code",
   "execution_count": 5,
   "id": "d2209149",
   "metadata": {},
   "outputs": [],
   "source": [
    "model.compile(\n",
    "    optimizer='Adam',\n",
    "    loss=tf.losses.SparseCategoricalCrossentropy(from_logits=True),\n",
    "    metrics=['accuracy']\n",
    ")"
   ]
  },
  {
   "cell_type": "code",
   "execution_count": 6,
   "id": "e68060fe",
   "metadata": {},
   "outputs": [
    {
     "name": "stdout",
     "output_type": "stream",
     "text": [
      "Model: \"sequential\"\n",
      "_________________________________________________________________\n",
      " Layer (type)                Output Shape              Param #   \n",
      "=================================================================\n",
      " flatten (Flatten)           (None, 784)               0         \n",
      "                                                                 \n",
      " dense (Dense)               (None, 256)               200960    \n",
      "                                                                 \n",
      " dense_1 (Dense)             (None, 512)               131584    \n",
      "                                                                 \n",
      " dense_2 (Dense)             (None, 10)                5130      \n",
      "                                                                 \n",
      "=================================================================\n",
      "Total params: 337,674\n",
      "Trainable params: 337,674\n",
      "Non-trainable params: 0\n",
      "_________________________________________________________________\n"
     ]
    }
   ],
   "source": [
    "model.summary()"
   ]
  },
  {
   "cell_type": "code",
   "execution_count": 7,
   "id": "1e427927",
   "metadata": {},
   "outputs": [],
   "source": [
    "x_val = x_train[:30000]\n",
    "partial_x_train = x_train[30000:]\n",
    "\n",
    "y_val = y_train[:30000]\n",
    "partial_y_train = y_train[30000:]"
   ]
  },
  {
   "cell_type": "code",
   "execution_count": 8,
   "id": "60a73e62",
   "metadata": {},
   "outputs": [
    {
     "name": "stdout",
     "output_type": "stream",
     "text": [
      "Epoch 1/20\n"
     ]
    },
    {
     "name": "stderr",
     "output_type": "stream",
     "text": [
      "C:\\Users\\Dmytro\\anaconda3\\lib\\site-packages\\tensorflow\\python\\util\\dispatch.py:1082: UserWarning: \"`sparse_categorical_crossentropy` received `from_logits=True`, but the `output` argument was produced by a sigmoid or softmax activation and thus does not represent logits. Was this intended?\"\n",
      "  return dispatch_target(*args, **kwargs)\n"
     ]
    },
    {
     "name": "stdout",
     "output_type": "stream",
     "text": [
      "59/59 [==============================] - 6s 74ms/step - loss: 0.7198 - accuracy: 0.7537 - val_loss: 0.4914 - val_accuracy: 0.8310\n",
      "Epoch 2/20\n",
      "59/59 [==============================] - 4s 68ms/step - loss: 0.4471 - accuracy: 0.8443 - val_loss: 0.4154 - val_accuracy: 0.8514\n",
      "Epoch 3/20\n",
      "59/59 [==============================] - 4s 67ms/step - loss: 0.4025 - accuracy: 0.8567 - val_loss: 0.4056 - val_accuracy: 0.8560\n",
      "Epoch 4/20\n",
      "59/59 [==============================] - 4s 62ms/step - loss: 0.3682 - accuracy: 0.8696 - val_loss: 0.3779 - val_accuracy: 0.8661\n",
      "Epoch 5/20\n",
      "59/59 [==============================] - 3s 53ms/step - loss: 0.3357 - accuracy: 0.8801 - val_loss: 0.3570 - val_accuracy: 0.8722\n",
      "Epoch 6/20\n",
      "59/59 [==============================] - 3s 60ms/step - loss: 0.3287 - accuracy: 0.8822 - val_loss: 0.3473 - val_accuracy: 0.8770\n",
      "Epoch 7/20\n",
      "59/59 [==============================] - 4s 62ms/step - loss: 0.3018 - accuracy: 0.8915 - val_loss: 0.3403 - val_accuracy: 0.8786\n",
      "Epoch 8/20\n",
      "59/59 [==============================] - 4s 67ms/step - loss: 0.2882 - accuracy: 0.8975 - val_loss: 0.3350 - val_accuracy: 0.8802\n",
      "Epoch 9/20\n",
      "59/59 [==============================] - 4s 60ms/step - loss: 0.2762 - accuracy: 0.8995 - val_loss: 0.3324 - val_accuracy: 0.8812\n",
      "Epoch 10/20\n",
      "59/59 [==============================] - 4s 63ms/step - loss: 0.2618 - accuracy: 0.9070 - val_loss: 0.3343 - val_accuracy: 0.8794\n",
      "Epoch 11/20\n",
      "59/59 [==============================] - 4s 69ms/step - loss: 0.2489 - accuracy: 0.9105 - val_loss: 0.3447 - val_accuracy: 0.8778\n",
      "Epoch 12/20\n",
      "59/59 [==============================] - 3s 55ms/step - loss: 0.2344 - accuracy: 0.9168 - val_loss: 0.3300 - val_accuracy: 0.8826\n",
      "Epoch 13/20\n",
      "59/59 [==============================] - 4s 63ms/step - loss: 0.2324 - accuracy: 0.9148 - val_loss: 0.3348 - val_accuracy: 0.8810\n",
      "Epoch 14/20\n",
      "59/59 [==============================] - 4s 67ms/step - loss: 0.2312 - accuracy: 0.9138 - val_loss: 0.3516 - val_accuracy: 0.8786\n",
      "Epoch 15/20\n",
      "59/59 [==============================] - 4s 69ms/step - loss: 0.2213 - accuracy: 0.9181 - val_loss: 0.3343 - val_accuracy: 0.8837\n",
      "Epoch 16/20\n",
      "59/59 [==============================] - 3s 54ms/step - loss: 0.2040 - accuracy: 0.9265 - val_loss: 0.3332 - val_accuracy: 0.8863\n",
      "Epoch 17/20\n",
      "59/59 [==============================] - 4s 62ms/step - loss: 0.2033 - accuracy: 0.9249 - val_loss: 0.3325 - val_accuracy: 0.8854\n",
      "Epoch 18/20\n",
      "59/59 [==============================] - 4s 64ms/step - loss: 0.1916 - accuracy: 0.9303 - val_loss: 0.3386 - val_accuracy: 0.8843\n",
      "Epoch 19/20\n",
      "59/59 [==============================] - 4s 63ms/step - loss: 0.1845 - accuracy: 0.9316 - val_loss: 0.3417 - val_accuracy: 0.8840\n",
      "Epoch 20/20\n",
      "59/59 [==============================] - 3s 58ms/step - loss: 0.1862 - accuracy: 0.9315 - val_loss: 0.3355 - val_accuracy: 0.8855\n"
     ]
    }
   ],
   "source": [
    "history = model.fit(\n",
    "    partial_x_train,\n",
    "    partial_y_train,\n",
    "    epochs=20,\n",
    "    batch_size=512,\n",
    "    validation_data=(x_val, y_val)\n",
    ")"
   ]
  },
  {
   "cell_type": "code",
   "execution_count": 9,
   "id": "3b3026c8",
   "metadata": {},
   "outputs": [
    {
     "name": "stdout",
     "output_type": "stream",
     "text": [
      "313/313 [==============================] - 2s 6ms/step - loss: 0.3625 - accuracy: 0.8780\n"
     ]
    }
   ],
   "source": [
    "scores = model.evaluate(x_test, y_test)"
   ]
  },
  {
   "cell_type": "code",
   "execution_count": 28,
   "id": "0be375f5",
   "metadata": {},
   "outputs": [
    {
     "data": {
      "image/png": "[encoded data removed]",
      "text/plain": [
       "<Figure size 640x480 with 1 Axes>"
      ]
     },
     "metadata": {},
     "output_type": "display_data"
    }
   ],
   "source": [
    "plt.imshow(x_test[0].reshape(28, 28), cmap=plt.cm.binary)\n",
    "plt.show()"
   ]
  },
  {
   "cell_type": "code",
   "execution_count": 29,
   "id": "01892e6d",
   "metadata": {},
   "outputs": [
    {
     "data": {
      "text/plain": [
       "(1, 28, 28)"
      ]
     },
     "execution_count": 29,
     "metadata": {},
     "output_type": "execute_result"
    }
   ],
   "source": [
    "image = x_test[0]\n",
    "image = (np.expand_dims(image,0))\n",
    "image.shape"
   ]
  },
  {
   "cell_type": "code",
   "execution_count": 30,
   "id": "9fcc3e5a",
   "metadata": {},
   "outputs": [
    {
     "name": "stdout",
     "output_type": "stream",
     "text": [
      "1/1 [==============================] - 0s 33ms/step\n"
     ]
    },
    {
     "data": {
      "text/plain": [
       "array([[4.6498639e-07, 7.6992416e-07, 8.6641180e-08, 1.4180242e-07,\n",
       "        1.7744374e-06, 2.1103420e-04, 1.3805646e-06, 4.8361663e-03,\n",
       "        2.1310273e-06, 9.9494606e-01]], dtype=float32)"
      ]
     },
     "execution_count": 30,
     "metadata": {},
     "output_type": "execute_result"
    }
   ],
   "source": [
    "predictions = model.predict(image)\n",
    "predictions"
   ]
  },
  {
   "cell_type": "code",
   "execution_count": 31,
   "id": "aca4adf3",
   "metadata": {},
   "outputs": [
    {
     "data": {
      "text/plain": [
       "9"
      ]
     },
     "execution_count": 31,
     "metadata": {},
     "output_type": "execute_result"
    }
   ],
   "source": [
    "prediction = predictions[0]\n",
    "np.argmax(prediction)"
   ]
  },
  {
   "cell_type": "code",
   "execution_count": null,
   "id": "e6f9d1d6",
   "metadata": {},
   "outputs": [],
   "source": []
  }
 ],
 "metadata": {
  "kernelspec": {
   "display_name": "Python 3 (ipykernel)",
   "language": "python",
   "name": "python3"
  },
  "language_info": {
   "codemirror_mode": {
    "name": "ipython",
    "version": 3
   },
   "file_extension": ".py",
   "mimetype": "text/x-python",
   "name": "python",
   "nbconvert_exporter": "python",
   "pygments_lexer": "ipython3",
   "version": "3.9.13"
  }
 },
 "nbformat": 4,
 "nbformat_minor": 5
}
