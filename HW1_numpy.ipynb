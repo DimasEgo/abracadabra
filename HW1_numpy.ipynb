{
 "cells": [
  {
   "cell_type": "markdown",
   "id": "450d27f3",
   "metadata": {},
   "source": [
    "***1 Завдання***"
   ]
  },
  {
   "cell_type": "code",
   "execution_count": 1,
   "id": "40ec6634",
   "metadata": {},
   "outputs": [],
   "source": [
    "import numpy as np"
   ]
  },
  {
   "cell_type": "code",
   "execution_count": 2,
   "id": "cc72d521",
   "metadata": {},
   "outputs": [
    {
     "data": {
      "text/plain": [
       "array([[1.  , 1.  , 1.  ],\n",
       "       [0.05, 0.07, 0.  ],\n",
       "       [0.05, 0.  , 0.06]])"
      ]
     },
     "execution_count": 2,
     "metadata": {},
     "output_type": "execute_result"
    }
   ],
   "source": [
    "a = np.array([[1, 1, 1], [0.05, 0.07, 0], [0.05, 0, 0.06]])\n",
    "a"
   ]
  },
  {
   "cell_type": "code",
   "execution_count": 3,
   "id": "34e7216f",
   "metadata": {},
   "outputs": [
    {
     "data": {
      "text/plain": [
       "array([50000,  2250,  1400])"
      ]
     },
     "execution_count": 3,
     "metadata": {},
     "output_type": "execute_result"
    }
   ],
   "source": [
    "b = np.array([50000, 2250, 1400])\n",
    "b"
   ]
  },
  {
   "cell_type": "code",
   "execution_count": 4,
   "id": "b65a825a",
   "metadata": {},
   "outputs": [
    {
     "data": {
      "text/plain": [
       "array([10000., 25000., 15000.])"
      ]
     },
     "execution_count": 4,
     "metadata": {},
     "output_type": "execute_result"
    }
   ],
   "source": [
    "result = np.linalg.solve(a, b)\n",
    "result"
   ]
  },
  {
   "cell_type": "markdown",
   "id": "e4e66825",
   "metadata": {},
   "source": [
    "***2 Завдання***"
   ]
  },
  {
   "cell_type": "code",
   "execution_count": 8,
   "id": "be1d450d",
   "metadata": {},
   "outputs": [
    {
     "data": {
      "text/plain": [
       "array([[ 1,  1,  1],\n",
       "       [ 1, -1,  0],\n",
       "       [ 1,  0, -1]])"
      ]
     },
     "execution_count": 8,
     "metadata": {},
     "output_type": "execute_result"
    }
   ],
   "source": [
    "a = np.array([[1, 1, 1], [1, -1, 0], [1, 0, -1]])\n",
    "a"
   ]
  },
  {
   "cell_type": "code",
   "execution_count": 9,
   "id": "12b715e4",
   "metadata": {},
   "outputs": [
    {
     "data": {
      "text/plain": [
       "array([1328, -120,  100])"
      ]
     },
     "execution_count": 9,
     "metadata": {},
     "output_type": "execute_result"
    }
   ],
   "source": [
    "b = np.array([1328, -120, 100])\n",
    "b"
   ]
  },
  {
   "cell_type": "code",
   "execution_count": 17,
   "id": "554d2dea",
   "metadata": {},
   "outputs": [
    {
     "data": {
      "text/plain": [
       "array([436., 556., 336.])"
      ]
     },
     "execution_count": 17,
     "metadata": {},
     "output_type": "execute_result"
    }
   ],
   "source": [
    "result = np.linalg.solve(a, b)\n",
    "result"
   ]
  },
  {
   "cell_type": "markdown",
   "id": "04bcee8f",
   "metadata": {},
   "source": [
    "***3 Завдання***"
   ]
  },
  {
   "cell_type": "code",
   "execution_count": 18,
   "id": "97e6cc50",
   "metadata": {},
   "outputs": [
    {
     "data": {
      "text/plain": [
       "array([[3.        , 0.        , 3.        ],\n",
       "       [6.        , 0.25      , 0.        ],\n",
       "       [1.        , 0.33333333, 1.        ]])"
      ]
     },
     "execution_count": 18,
     "metadata": {},
     "output_type": "execute_result"
    }
   ],
   "source": [
    "a = np.array([[3, 0, 3], [6, 1/4, 0], [1, 1/3, 1]])\n",
    "a"
   ]
  },
  {
   "cell_type": "code",
   "execution_count": 19,
   "id": "bfcaf875",
   "metadata": {},
   "outputs": [
    {
     "data": {
      "text/plain": [
       "array([1, 1, 1])"
      ]
     },
     "execution_count": 19,
     "metadata": {},
     "output_type": "execute_result"
    }
   ],
   "source": [
    "b = np.array([1, 1, 1])\n",
    "b"
   ]
  },
  {
   "cell_type": "code",
   "execution_count": 20,
   "id": "9c9b2fe0",
   "metadata": {},
   "outputs": [
    {
     "data": {
      "text/plain": [
       "array([0.08333333, 2.        , 0.25      ])"
      ]
     },
     "execution_count": 20,
     "metadata": {},
     "output_type": "execute_result"
    }
   ],
   "source": [
    "result = np.linalg.solve(a, b)\n",
    "result"
   ]
  },
  {
   "cell_type": "code",
   "execution_count": 48,
   "id": "33573304",
   "metadata": {},
   "outputs": [
    {
     "data": {
      "text/plain": [
       "array([0.5       , 0.4472136 , 0.57735027])"
      ]
     },
     "execution_count": 48,
     "metadata": {},
     "output_type": "execute_result"
    }
   ],
   "source": [
    "result_true = (1/result)**0.5\n",
    "result_true"
   ]
  },
  {
   "cell_type": "markdown",
   "id": "d5d11630",
   "metadata": {},
   "source": [
    "***4 Завдання***"
   ]
  },
  {
   "cell_type": "code",
   "execution_count": 49,
   "id": "e764a293",
   "metadata": {},
   "outputs": [
    {
     "data": {
      "text/plain": [
       "array([[ 1,  1,  1],\n",
       "       [ 9,  3,  1],\n",
       "       [ 1, -1,  1]])"
      ]
     },
     "execution_count": 49,
     "metadata": {},
     "output_type": "execute_result"
    }
   ],
   "source": [
    "a = np.array([[1, 1, 1], [9, 3, 1], [1, -1, 1]])\n",
    "a"
   ]
  },
  {
   "cell_type": "code",
   "execution_count": 50,
   "id": "15140213",
   "metadata": {},
   "outputs": [
    {
     "data": {
      "text/plain": [
       "array([12, 54,  2])"
      ]
     },
     "execution_count": 50,
     "metadata": {},
     "output_type": "execute_result"
    }
   ],
   "source": [
    "b = np.array([12, 54, 2])\n",
    "b"
   ]
  },
  {
   "cell_type": "code",
   "execution_count": 51,
   "id": "a5a50576",
   "metadata": {},
   "outputs": [
    {
     "data": {
      "text/plain": [
       "array([4., 5., 3.])"
      ]
     },
     "execution_count": 51,
     "metadata": {},
     "output_type": "execute_result"
    }
   ],
   "source": [
    "result = np.linalg.solve(a, b)\n",
    "result"
   ]
  },
  {
   "cell_type": "markdown",
   "id": "83e7bbad",
   "metadata": {},
   "source": [
    "***5 Завдання***"
   ]
  },
  {
   "cell_type": "code",
   "execution_count": 52,
   "id": "22ebba1a",
   "metadata": {},
   "outputs": [],
   "source": [
    "def get_polynom(coords):\n",
    "    a = []\n",
    "    b = []\n",
    "    for x, y in coords:\n",
    "        b.append(y)\n",
    "        c = []\n",
    "        for i in range(len(coords)):\n",
    "            c.append(x ** i)\n",
    "        a.append(c)\n",
    "    return np.linalg.solve(a, b)"
   ]
  },
  {
   "cell_type": "code",
   "execution_count": 53,
   "id": "46c09444",
   "metadata": {},
   "outputs": [
    {
     "data": {
      "text/plain": [
       "array([12. , -6.5,  1.5])"
      ]
     },
     "execution_count": 53,
     "metadata": {},
     "output_type": "execute_result"
    }
   ],
   "source": [
    "get_polynom([(1, 7), (2, 5), (3, 6)])"
   ]
  },
  {
   "cell_type": "code",
   "execution_count": null,
   "id": "925a35a9",
   "metadata": {},
   "outputs": [],
   "source": []
  }
 ],
 "metadata": {
  "kernelspec": {
   "display_name": "Python 3 (ipykernel)",
   "language": "python",
   "name": "python3"
  },
  "language_info": {
   "codemirror_mode": {
    "name": "ipython",
    "version": 3
   },
   "file_extension": ".py",
   "mimetype": "text/x-python",
   "name": "python",
   "nbconvert_exporter": "python",
   "pygments_lexer": "ipython3",
   "version": "3.9.13"
  }
 },
 "nbformat": 4,
 "nbformat_minor": 5
}
