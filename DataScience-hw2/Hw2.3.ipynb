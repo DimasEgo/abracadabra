{
 "cells": [
  {
   "cell_type": "code",
   "execution_count": 1,
   "id": "75c7cbe0",
   "metadata": {
    "id": "BmoyacsCfqD3"
   },
   "outputs": [],
   "source": [
    "import numpy as np\n",
    "import pandas as pd\n",
    "import matplotlib.pyplot as plt"
   ]
  },
  {
   "cell_type": "markdown",
   "id": "27ed9a1c",
   "metadata": {
    "id": "oV28W6Lpm5wM"
   },
   "source": [
    "### Прочитайте csv файл (використовуйте функцію read_csv)"
   ]
  },
  {
   "cell_type": "code",
   "execution_count": 2,
   "id": "d218bbc0",
   "metadata": {
    "id": "mo_7zjbam_J8"
   },
   "outputs": [],
   "source": [
    "books = pd.read_csv('bestsellers with categories.csv')"
   ]
  },
  {
   "cell_type": "markdown",
   "id": "ba3c15f4",
   "metadata": {
    "id": "Q-foz9-4nmck"
   },
   "source": [
    "### Виведіть перших п'ять рядків (використовується функція head)"
   ]
  },
  {
   "cell_type": "code",
   "execution_count": 3,
   "id": "9ae52978",
   "metadata": {
    "colab": {
     "base_uri": "https://localhost:8080/",
     "height": 206
    },
    "id": "nPWvM5CWnri1",
    "outputId": "84ce8302-ad5e-4231-8d0c-4073d97b0336"
   },
   "outputs": [
    {
     "data": {
      "text/html": [
       "<div>\n",
       "<style scoped>\n",
       "    .dataframe tbody tr th:only-of-type {\n",
       "        vertical-align: middle;\n",
       "    }\n",
       "\n",
       "    .dataframe tbody tr th {\n",
       "        vertical-align: top;\n",
       "    }\n",
       "\n",
       "    .dataframe thead th {\n",
       "        text-align: right;\n",
       "    }\n",
       "</style>\n",
       "<table border=\"1\" class=\"dataframe\">\n",
       "  <thead>\n",
       "    <tr style=\"text-align: right;\">\n",
       "      <th></th>\n",
       "      <th>Name</th>\n",
       "      <th>Author</th>\n",
       "      <th>User Rating</th>\n",
       "      <th>Reviews</th>\n",
       "      <th>Price</th>\n",
       "      <th>Year</th>\n",
       "      <th>Genre</th>\n",
       "    </tr>\n",
       "  </thead>\n",
       "  <tbody>\n",
       "    <tr>\n",
       "      <th>0</th>\n",
       "      <td>10-Day Green Smoothie Cleanse</td>\n",
       "      <td>JJ Smith</td>\n",
       "      <td>4.7</td>\n",
       "      <td>17350</td>\n",
       "      <td>8</td>\n",
       "      <td>2016</td>\n",
       "      <td>Non Fiction</td>\n",
       "    </tr>\n",
       "    <tr>\n",
       "      <th>1</th>\n",
       "      <td>11/22/63: A Novel</td>\n",
       "      <td>Stephen King</td>\n",
       "      <td>4.6</td>\n",
       "      <td>2052</td>\n",
       "      <td>22</td>\n",
       "      <td>2011</td>\n",
       "      <td>Fiction</td>\n",
       "    </tr>\n",
       "    <tr>\n",
       "      <th>2</th>\n",
       "      <td>12 Rules for Life: An Antidote to Chaos</td>\n",
       "      <td>Jordan B. Peterson</td>\n",
       "      <td>4.7</td>\n",
       "      <td>18979</td>\n",
       "      <td>15</td>\n",
       "      <td>2018</td>\n",
       "      <td>Non Fiction</td>\n",
       "    </tr>\n",
       "    <tr>\n",
       "      <th>3</th>\n",
       "      <td>1984 (Signet Classics)</td>\n",
       "      <td>George Orwell</td>\n",
       "      <td>4.7</td>\n",
       "      <td>21424</td>\n",
       "      <td>6</td>\n",
       "      <td>2017</td>\n",
       "      <td>Fiction</td>\n",
       "    </tr>\n",
       "    <tr>\n",
       "      <th>4</th>\n",
       "      <td>5,000 Awesome Facts (About Everything!) (Natio...</td>\n",
       "      <td>National Geographic Kids</td>\n",
       "      <td>4.8</td>\n",
       "      <td>7665</td>\n",
       "      <td>12</td>\n",
       "      <td>2019</td>\n",
       "      <td>Non Fiction</td>\n",
       "    </tr>\n",
       "  </tbody>\n",
       "</table>\n",
       "</div>"
      ],
      "text/plain": [
       "                                                Name  \\\n",
       "0                      10-Day Green Smoothie Cleanse   \n",
       "1                                  11/22/63: A Novel   \n",
       "2            12 Rules for Life: An Antidote to Chaos   \n",
       "3                             1984 (Signet Classics)   \n",
       "4  5,000 Awesome Facts (About Everything!) (Natio...   \n",
       "\n",
       "                     Author  User Rating  Reviews  Price  Year        Genre  \n",
       "0                  JJ Smith          4.7    17350      8  2016  Non Fiction  \n",
       "1              Stephen King          4.6     2052     22  2011      Fiction  \n",
       "2        Jordan B. Peterson          4.7    18979     15  2018  Non Fiction  \n",
       "3             George Orwell          4.7    21424      6  2017      Fiction  \n",
       "4  National Geographic Kids          4.8     7665     12  2019  Non Fiction  "
      ]
     },
     "execution_count": 3,
     "metadata": {},
     "output_type": "execute_result"
    }
   ],
   "source": [
    "books.head()"
   ]
  },
  {
   "cell_type": "markdown",
   "id": "2c015ff3",
   "metadata": {
    "id": "BC9ecgDKnv-A"
   },
   "source": [
    "### Виведіть розміри датасету (використовуйте атрибут shape)"
   ]
  },
  {
   "cell_type": "code",
   "execution_count": 4,
   "id": "4c932d05",
   "metadata": {
    "colab": {
     "base_uri": "https://localhost:8080/"
    },
    "id": "UAREgI1Vnx0K",
    "outputId": "6762934b-b109-4deb-a62a-759c355d594f"
   },
   "outputs": [
    {
     "data": {
      "text/plain": [
       "(550, 7)"
      ]
     },
     "execution_count": 4,
     "metadata": {},
     "output_type": "execute_result"
    }
   ],
   "source": [
    "books.shape"
   ]
  },
  {
   "cell_type": "markdown",
   "id": "7b772325",
   "metadata": {
    "id": "Re5UhZcFn0XM"
   },
   "source": [
    "Про скільки книг зберігає дані датасет? Про 550 книг"
   ]
  },
  {
   "cell_type": "markdown",
   "id": "8fff257a",
   "metadata": {
    "id": "yBnmdUl7oDfa"
   },
   "source": [
    "Для кожної з книг є 7 змінних (колонок). Давайте розглянемо їх детальніше:\n",
    "- Name - назва книги\n",
    "- Author - Автор\n",
    "- User Rating - рейтинг (за 5-бальною шкалою)\n",
    "- Reviews - кількість відгуків\n",
    "- Price - ціна (у доларах станом на 2020 рік)\n",
    "- Year - рік, коли книга потрапила до рейтингу Топ-50\n",
    "- Genre - Жанр\n",
    "\n",
    "Для спрощення подальшої роботи, давайте трохи підправимо назви змінних. Як бачите, тут усі назви починаються з великої літери, а одна - навіть містить прогалину. Це дуже небажано і може бути досить незручним. Давайте змінимо регістр на невеликий, а пропуск замінимо на нижнє підкреслення (snake_style). А заразом і вивчимо корисний атрибут датафрейму: columns(можна просто присвоїти список нових імен цьому атрибуту)\n",
    "\n",
    "`df.columns = ['name', 'author', 'user_rating', 'reviews', 'price', 'year', 'genre']`"
   ]
  },
  {
   "cell_type": "code",
   "execution_count": 5,
   "id": "8099fe69",
   "metadata": {
    "colab": {
     "base_uri": "https://localhost:8080/",
     "height": 206
    },
    "id": "WruimK90pApQ",
    "outputId": "df59563c-ee83-4e4a-a459-f7685b68f248"
   },
   "outputs": [
    {
     "data": {
      "text/html": [
       "<div>\n",
       "<style scoped>\n",
       "    .dataframe tbody tr th:only-of-type {\n",
       "        vertical-align: middle;\n",
       "    }\n",
       "\n",
       "    .dataframe tbody tr th {\n",
       "        vertical-align: top;\n",
       "    }\n",
       "\n",
       "    .dataframe thead th {\n",
       "        text-align: right;\n",
       "    }\n",
       "</style>\n",
       "<table border=\"1\" class=\"dataframe\">\n",
       "  <thead>\n",
       "    <tr style=\"text-align: right;\">\n",
       "      <th></th>\n",
       "      <th>name</th>\n",
       "      <th>author</th>\n",
       "      <th>user_rating</th>\n",
       "      <th>reviews</th>\n",
       "      <th>price</th>\n",
       "      <th>year</th>\n",
       "      <th>genre</th>\n",
       "    </tr>\n",
       "  </thead>\n",
       "  <tbody>\n",
       "    <tr>\n",
       "      <th>0</th>\n",
       "      <td>10-Day Green Smoothie Cleanse</td>\n",
       "      <td>JJ Smith</td>\n",
       "      <td>4.7</td>\n",
       "      <td>17350</td>\n",
       "      <td>8</td>\n",
       "      <td>2016</td>\n",
       "      <td>Non Fiction</td>\n",
       "    </tr>\n",
       "    <tr>\n",
       "      <th>1</th>\n",
       "      <td>11/22/63: A Novel</td>\n",
       "      <td>Stephen King</td>\n",
       "      <td>4.6</td>\n",
       "      <td>2052</td>\n",
       "      <td>22</td>\n",
       "      <td>2011</td>\n",
       "      <td>Fiction</td>\n",
       "    </tr>\n",
       "    <tr>\n",
       "      <th>2</th>\n",
       "      <td>12 Rules for Life: An Antidote to Chaos</td>\n",
       "      <td>Jordan B. Peterson</td>\n",
       "      <td>4.7</td>\n",
       "      <td>18979</td>\n",
       "      <td>15</td>\n",
       "      <td>2018</td>\n",
       "      <td>Non Fiction</td>\n",
       "    </tr>\n",
       "    <tr>\n",
       "      <th>3</th>\n",
       "      <td>1984 (Signet Classics)</td>\n",
       "      <td>George Orwell</td>\n",
       "      <td>4.7</td>\n",
       "      <td>21424</td>\n",
       "      <td>6</td>\n",
       "      <td>2017</td>\n",
       "      <td>Fiction</td>\n",
       "    </tr>\n",
       "    <tr>\n",
       "      <th>4</th>\n",
       "      <td>5,000 Awesome Facts (About Everything!) (Natio...</td>\n",
       "      <td>National Geographic Kids</td>\n",
       "      <td>4.8</td>\n",
       "      <td>7665</td>\n",
       "      <td>12</td>\n",
       "      <td>2019</td>\n",
       "      <td>Non Fiction</td>\n",
       "    </tr>\n",
       "  </tbody>\n",
       "</table>\n",
       "</div>"
      ],
      "text/plain": [
       "                                                name  \\\n",
       "0                      10-Day Green Smoothie Cleanse   \n",
       "1                                  11/22/63: A Novel   \n",
       "2            12 Rules for Life: An Antidote to Chaos   \n",
       "3                             1984 (Signet Classics)   \n",
       "4  5,000 Awesome Facts (About Everything!) (Natio...   \n",
       "\n",
       "                     author  user_rating  reviews  price  year        genre  \n",
       "0                  JJ Smith          4.7    17350      8  2016  Non Fiction  \n",
       "1              Stephen King          4.6     2052     22  2011      Fiction  \n",
       "2        Jordan B. Peterson          4.7    18979     15  2018  Non Fiction  \n",
       "3             George Orwell          4.7    21424      6  2017      Fiction  \n",
       "4  National Geographic Kids          4.8     7665     12  2019  Non Fiction  "
      ]
     },
     "execution_count": 5,
     "metadata": {},
     "output_type": "execute_result"
    }
   ],
   "source": [
    "books.columns = ['name', 'author', 'user_rating', 'reviews', 'price', 'year', 'genre']\n",
    "books.head()"
   ]
  },
  {
   "cell_type": "markdown",
   "id": "9dc7b4e4",
   "metadata": {
    "id": "jOdpGKJCqd04"
   },
   "source": [
    "### Перевірте у всіх рядків вистачає даних: виведіть кількість пропусків (na) у кожному зі стовпців (використовуйте функції isna та sum)\n",
    "\n",
    "Чи є в якихось змінних пропустки? (Так / ні) Ні"
   ]
  },
  {
   "cell_type": "code",
   "execution_count": 6,
   "id": "6b11f3e7",
   "metadata": {
    "colab": {
     "base_uri": "https://localhost:8080/"
    },
    "id": "TWClI8iqqute",
    "outputId": "5fc3870d-5cf2-491b-a8bf-dcaad3997f9a"
   },
   "outputs": [
    {
     "data": {
      "text/plain": [
       "name           0\n",
       "author         0\n",
       "user_rating    0\n",
       "reviews        0\n",
       "price          0\n",
       "year           0\n",
       "genre          0\n",
       "dtype: int64"
      ]
     },
     "execution_count": 6,
     "metadata": {},
     "output_type": "execute_result"
    }
   ],
   "source": [
    "books.isna().sum()"
   ]
  },
  {
   "cell_type": "markdown",
   "id": "5b8608e8",
   "metadata": {
    "id": "6b27S-TQrhLV"
   },
   "source": [
    "Перевірте, які унікальні значення в колонці genre (використовуйте функцію unique)\n",
    "\n",
    "Які є унікальні жанри? Non-fiction та Fiction"
   ]
  },
  {
   "cell_type": "code",
   "execution_count": 7,
   "id": "27a0acc3",
   "metadata": {
    "colab": {
     "base_uri": "https://localhost:8080/"
    },
    "id": "uo399JVBrlNJ",
    "outputId": "3eb658b5-ecc6-405b-aecb-a4d4c9ebd372"
   },
   "outputs": [
    {
     "data": {
      "text/plain": [
       "array(['Non Fiction', 'Fiction'], dtype=object)"
      ]
     },
     "execution_count": 7,
     "metadata": {},
     "output_type": "execute_result"
    }
   ],
   "source": [
    "books['genre'].unique()"
   ]
  },
  {
   "cell_type": "markdown",
   "id": "4d9e95cb",
   "metadata": {
    "id": "XkZNwboesJ1v"
   },
   "source": [
    "### Тепер подивіться розподіл цін: побудуйте діаграму (використовуйте kind='hist')"
   ]
  },
  {
   "cell_type": "code",
   "execution_count": 8,
   "id": "42bd05a3",
   "metadata": {
    "colab": {
     "base_uri": "https://localhost:8080/",
     "height": 295
    },
    "id": "uOwfBpzGsTng",
    "outputId": "a4de14ef-8fc2-48a0-9a49-9998932530a3"
   },
   "outputs": [
    {
     "data": {
      "image/png": "[encoded data removed]",
      "text/plain": [
       "<Figure size 640x480 with 1 Axes>"
      ]
     },
     "metadata": {},
     "output_type": "display_data"
    }
   ],
   "source": [
    "books['price'].plot(kind='hist')\n",
    "plt.xlabel('Price')\n",
    "plt.ylabel('Number of books')\n",
    "plt.show()"
   ]
  },
  {
   "cell_type": "markdown",
   "id": "c6400851",
   "metadata": {
    "id": "ILBZH97VtmhB"
   },
   "source": [
    "### Визначте, яка ціна у нас максимальна, мінімальна, середня, медіанна (використовуйте функції max, min, mean, median)\n",
    "\n",
    "- Максимальна ціна? - 105\n",
    "- Мінімальна ціна? - 0\n",
    "- Середня ціна? - 13.1\n",
    "- Медіанна ціна? - 11"
   ]
  },
  {
   "cell_type": "code",
   "execution_count": 9,
   "id": "81c5659a",
   "metadata": {
    "colab": {
     "base_uri": "https://localhost:8080/"
    },
    "id": "IHkI89E1uZNA",
    "outputId": "9bc4aeb4-f71e-4feb-efd8-e0f97ddfa09f"
   },
   "outputs": [
    {
     "data": {
      "text/plain": [
       "105"
      ]
     },
     "execution_count": 9,
     "metadata": {},
     "output_type": "execute_result"
    }
   ],
   "source": [
    "books['price'].max()"
   ]
  },
  {
   "cell_type": "code",
   "execution_count": 10,
   "id": "4e6525a9",
   "metadata": {
    "colab": {
     "base_uri": "https://localhost:8080/"
    },
    "id": "4CGinXvoufVC",
    "outputId": "af7c9395-448e-4be4-be5c-e81adca5ccef"
   },
   "outputs": [
    {
     "data": {
      "text/plain": [
       "0"
      ]
     },
     "execution_count": 10,
     "metadata": {},
     "output_type": "execute_result"
    }
   ],
   "source": [
    "books['price'].min()"
   ]
  },
  {
   "cell_type": "code",
   "execution_count": 11,
   "id": "eba70aac",
   "metadata": {
    "colab": {
     "base_uri": "https://localhost:8080/"
    },
    "id": "fddEMb4ZulgY",
    "outputId": "2316ada4-105a-4b51-b551-0404124bf3a4"
   },
   "outputs": [
    {
     "data": {
      "text/plain": [
       "13.1"
      ]
     },
     "execution_count": 11,
     "metadata": {},
     "output_type": "execute_result"
    }
   ],
   "source": [
    "books['price'].mean()"
   ]
  },
  {
   "cell_type": "code",
   "execution_count": 12,
   "id": "ce4c3c62",
   "metadata": {
    "colab": {
     "base_uri": "https://localhost:8080/"
    },
    "id": "04ODKc-fuuc7",
    "outputId": "5d7a5866-1b9d-4f47-ead8-1a546dd83d93"
   },
   "outputs": [
    {
     "data": {
      "text/plain": [
       "11.0"
      ]
     },
     "execution_count": 12,
     "metadata": {},
     "output_type": "execute_result"
    }
   ],
   "source": [
    "books['price'].median()"
   ]
  },
  {
   "cell_type": "code",
   "execution_count": 13,
   "id": "dfdba4ca",
   "metadata": {},
   "outputs": [
    {
     "data": {
      "text/plain": [
       "count    550.000000\n",
       "mean      13.100000\n",
       "std       10.842262\n",
       "min        0.000000\n",
       "25%        7.000000\n",
       "50%       11.000000\n",
       "75%       16.000000\n",
       "max      105.000000\n",
       "Name: price, dtype: float64"
      ]
     },
     "execution_count": 13,
     "metadata": {},
     "output_type": "execute_result"
    }
   ],
   "source": [
    "books['price'].describe()"
   ]
  },
  {
   "cell_type": "markdown",
   "id": "b2c5cfbc",
   "metadata": {
    "id": "rcmuBCkOu4R1"
   },
   "source": [
    "### Який рейтинг у датасеті найвищий? Відповідь: 4.9"
   ]
  },
  {
   "cell_type": "code",
   "execution_count": 14,
   "id": "791863bf",
   "metadata": {
    "colab": {
     "base_uri": "https://localhost:8080/"
    },
    "id": "sKha_taDu8bw",
    "outputId": "359d1c4a-f9d8-4db2-a1d0-390f8a68b83e"
   },
   "outputs": [
    {
     "data": {
      "text/plain": [
       "4.9"
      ]
     },
     "execution_count": 14,
     "metadata": {},
     "output_type": "execute_result"
    }
   ],
   "source": [
    "books['user_rating'].max()"
   ]
  },
  {
   "cell_type": "markdown",
   "id": "18c72644",
   "metadata": {
    "id": "9STP9m7ovQu9"
   },
   "source": [
    "### Скільки книг мають такий рейтинг? Відповідь: 52(28 - без дублікатів)"
   ]
  },
  {
   "cell_type": "code",
   "execution_count": 15,
   "id": "a87b1c0c",
   "metadata": {
    "colab": {
     "base_uri": "https://localhost:8080/"
    },
    "id": "54u2Lpw4vVTT",
    "outputId": "476e9d65-292a-4006-cdb6-5e66f4eca8b5"
   },
   "outputs": [
    {
     "data": {
      "text/plain": [
       "52"
      ]
     },
     "execution_count": 15,
     "metadata": {},
     "output_type": "execute_result"
    }
   ],
   "source": [
    "books[books['user_rating'] == 4.9]['name'].count()"
   ]
  },
  {
   "cell_type": "code",
   "execution_count": 16,
   "id": "e39339af",
   "metadata": {
    "colab": {
     "base_uri": "https://localhost:8080/"
    },
    "id": "v_3FemoQwHTy",
    "outputId": "e469e2d8-fbb5-4c82-e780-8e7b8d4144f6"
   },
   "outputs": [
    {
     "data": {
      "text/plain": [
       "28"
      ]
     },
     "execution_count": 16,
     "metadata": {},
     "output_type": "execute_result"
    }
   ],
   "source": [
    "books[books['user_rating'] == 4.9]['name'].drop_duplicates().count()"
   ]
  },
  {
   "cell_type": "markdown",
   "id": "88130332",
   "metadata": {
    "id": "jjStst_Qwl6U"
   },
   "source": [
    "### Яка книга має найбільше відгуків? Відповідь: Where the Crawdads Sing"
   ]
  },
  {
   "cell_type": "code",
   "execution_count": 17,
   "id": "9aebed60",
   "metadata": {
    "colab": {
     "base_uri": "https://localhost:8080/",
     "height": 81
    },
    "id": "7Iytf89TwodN",
    "outputId": "d5f79eaf-c906-4f6b-93bd-4790fafa6954"
   },
   "outputs": [
    {
     "data": {
      "text/html": [
       "<div>\n",
       "<style scoped>\n",
       "    .dataframe tbody tr th:only-of-type {\n",
       "        vertical-align: middle;\n",
       "    }\n",
       "\n",
       "    .dataframe tbody tr th {\n",
       "        vertical-align: top;\n",
       "    }\n",
       "\n",
       "    .dataframe thead th {\n",
       "        text-align: right;\n",
       "    }\n",
       "</style>\n",
       "<table border=\"1\" class=\"dataframe\">\n",
       "  <thead>\n",
       "    <tr style=\"text-align: right;\">\n",
       "      <th></th>\n",
       "      <th>name</th>\n",
       "      <th>author</th>\n",
       "      <th>user_rating</th>\n",
       "      <th>reviews</th>\n",
       "      <th>price</th>\n",
       "      <th>year</th>\n",
       "      <th>genre</th>\n",
       "    </tr>\n",
       "  </thead>\n",
       "  <tbody>\n",
       "    <tr>\n",
       "      <th>534</th>\n",
       "      <td>Where the Crawdads Sing</td>\n",
       "      <td>Delia Owens</td>\n",
       "      <td>4.8</td>\n",
       "      <td>87841</td>\n",
       "      <td>15</td>\n",
       "      <td>2019</td>\n",
       "      <td>Fiction</td>\n",
       "    </tr>\n",
       "  </tbody>\n",
       "</table>\n",
       "</div>"
      ],
      "text/plain": [
       "                        name       author  user_rating  reviews  price  year  \\\n",
       "534  Where the Crawdads Sing  Delia Owens          4.8    87841     15  2019   \n",
       "\n",
       "       genre  \n",
       "534  Fiction  "
      ]
     },
     "execution_count": 17,
     "metadata": {},
     "output_type": "execute_result"
    }
   ],
   "source": [
    "books[ books['reviews'] == books['reviews'].max() ]"
   ]
  },
  {
   "cell_type": "markdown",
   "id": "f99bf24f",
   "metadata": {
    "id": "IksaaEuHx2ib"
   },
   "source": [
    "### З тих книг, що потрапили до Топ-50 у 2015 році, яка книга найдорожча (можна використати проміжний датафрейм)? Відповідь: Publication Manual of the American Psychologic..."
   ]
  },
  {
   "cell_type": "code",
   "execution_count": 18,
   "id": "a710c341",
   "metadata": {},
   "outputs": [
    {
     "data": {
      "text/plain": [
       "46"
      ]
     },
     "execution_count": 18,
     "metadata": {},
     "output_type": "execute_result"
    }
   ],
   "source": [
    "max_price = books[books['year'] == 2015]['price'].max()\n",
    "max_price"
   ]
  },
  {
   "cell_type": "code",
   "execution_count": 19,
   "id": "f9b90421",
   "metadata": {
    "colab": {
     "base_uri": "https://localhost:8080/",
     "height": 81
    },
    "id": "Vvx-V0pGx55c",
    "outputId": "bf2791f9-492a-4bd1-c821-8daa0a2916cb"
   },
   "outputs": [
    {
     "data": {
      "text/html": [
       "<div>\n",
       "<style scoped>\n",
       "    .dataframe tbody tr th:only-of-type {\n",
       "        vertical-align: middle;\n",
       "    }\n",
       "\n",
       "    .dataframe tbody tr th {\n",
       "        vertical-align: top;\n",
       "    }\n",
       "\n",
       "    .dataframe thead th {\n",
       "        text-align: right;\n",
       "    }\n",
       "</style>\n",
       "<table border=\"1\" class=\"dataframe\">\n",
       "  <thead>\n",
       "    <tr style=\"text-align: right;\">\n",
       "      <th></th>\n",
       "      <th>name</th>\n",
       "    </tr>\n",
       "  </thead>\n",
       "  <tbody>\n",
       "    <tr>\n",
       "      <th>277</th>\n",
       "      <td>Publication Manual of the American Psychologic...</td>\n",
       "    </tr>\n",
       "  </tbody>\n",
       "</table>\n",
       "</div>"
      ],
      "text/plain": [
       "                                                  name\n",
       "277  Publication Manual of the American Psychologic..."
      ]
     },
     "execution_count": 19,
     "metadata": {},
     "output_type": "execute_result"
    }
   ],
   "source": [
    "books[(books['year'] == 2015) & (books['price'] == max_price)][['name']]"
   ]
  },
  {
   "cell_type": "markdown",
   "id": "4c4e3230",
   "metadata": {
    "id": "tTh4FrQz1Pkg"
   },
   "source": [
    "### Скільки книг жанру Fiction потрапили до Топ-50 у 2010 році (використовуйте &)? Відповідь: 20"
   ]
  },
  {
   "cell_type": "code",
   "execution_count": 20,
   "id": "d1d014a2",
   "metadata": {
    "colab": {
     "base_uri": "https://localhost:8080/"
    },
    "id": "xh2ufvy91R1o",
    "outputId": "1b2f4771-423e-4703-a019-19fd0fa54e35"
   },
   "outputs": [
    {
     "data": {
      "text/plain": [
       "20"
      ]
     },
     "execution_count": 20,
     "metadata": {},
     "output_type": "execute_result"
    }
   ],
   "source": [
    "books[(books['year'] == 2010) & (books['genre'] == 'Fiction')].count()['name']"
   ]
  },
  {
   "cell_type": "markdown",
   "id": "fb7a8e5a",
   "metadata": {
    "id": "avGftfbK2L4i"
   },
   "source": [
    "### Скільки книг з рейтингом 4.9 потрапило до рейтингу у 2010 та 2011 роках (використовуйте | або функцію isin)? Відповідь: 1 книга"
   ]
  },
  {
   "cell_type": "code",
   "execution_count": 21,
   "id": "e61a0417",
   "metadata": {
    "colab": {
     "base_uri": "https://localhost:8080/",
     "height": 81
    },
    "id": "U5M9COqx2QdH",
    "outputId": "fac99525-926a-4917-983a-89d04b2e58f6"
   },
   "outputs": [
    {
     "data": {
      "text/plain": [
       "1"
      ]
     },
     "execution_count": 21,
     "metadata": {},
     "output_type": "execute_result"
    }
   ],
   "source": [
    "books[ (books['user_rating'] == 4.9 ) & ((books['year']==2010) | (books['year'] == 2011)) ].count()['name']"
   ]
  },
  {
   "cell_type": "markdown",
   "id": "2fb1e051",
   "metadata": {
    "id": "qMRfZT5I3Zpu"
   },
   "source": [
    "### І насамкінець, давайте відсортуємо за зростанням ціни всі книги, які потрапили в рейтинг у 2015 році і коштують дешевше за 8 доларів (використовуйте функцію sort_values).\t"
   ]
  },
  {
   "cell_type": "code",
   "execution_count": 22,
   "id": "c1bb0856",
   "metadata": {
    "colab": {
     "base_uri": "https://localhost:8080/",
     "height": 582
    },
    "id": "9pg2gaBh3hZ_",
    "outputId": "680bb14a-1e7e-4b8b-f9f1-0e49fd6fb74e"
   },
   "outputs": [
    {
     "data": {
      "text/html": [
       "<div>\n",
       "<style scoped>\n",
       "    .dataframe tbody tr th:only-of-type {\n",
       "        vertical-align: middle;\n",
       "    }\n",
       "\n",
       "    .dataframe tbody tr th {\n",
       "        vertical-align: top;\n",
       "    }\n",
       "\n",
       "    .dataframe thead th {\n",
       "        text-align: right;\n",
       "    }\n",
       "</style>\n",
       "<table border=\"1\" class=\"dataframe\">\n",
       "  <thead>\n",
       "    <tr style=\"text-align: right;\">\n",
       "      <th></th>\n",
       "      <th>name</th>\n",
       "      <th>author</th>\n",
       "      <th>user_rating</th>\n",
       "      <th>reviews</th>\n",
       "      <th>price</th>\n",
       "      <th>year</th>\n",
       "      <th>genre</th>\n",
       "    </tr>\n",
       "  </thead>\n",
       "  <tbody>\n",
       "    <tr>\n",
       "      <th>507</th>\n",
       "      <td>To Kill a Mockingbird</td>\n",
       "      <td>Harper Lee</td>\n",
       "      <td>4.8</td>\n",
       "      <td>26234</td>\n",
       "      <td>0</td>\n",
       "      <td>2015</td>\n",
       "      <td>Fiction</td>\n",
       "    </tr>\n",
       "    <tr>\n",
       "      <th>210</th>\n",
       "      <td>Laugh-Out-Loud Jokes for Kids</td>\n",
       "      <td>Rob Elliott</td>\n",
       "      <td>4.6</td>\n",
       "      <td>6990</td>\n",
       "      <td>4</td>\n",
       "      <td>2015</td>\n",
       "      <td>Non Fiction</td>\n",
       "    </tr>\n",
       "    <tr>\n",
       "      <th>206</th>\n",
       "      <td>Knock-Knock Jokes for Kids</td>\n",
       "      <td>Rob Elliott</td>\n",
       "      <td>4.5</td>\n",
       "      <td>3673</td>\n",
       "      <td>4</td>\n",
       "      <td>2015</td>\n",
       "      <td>Non Fiction</td>\n",
       "    </tr>\n",
       "    <tr>\n",
       "      <th>111</th>\n",
       "      <td>First 100 Words</td>\n",
       "      <td>Roger Priddy</td>\n",
       "      <td>4.7</td>\n",
       "      <td>17323</td>\n",
       "      <td>4</td>\n",
       "      <td>2015</td>\n",
       "      <td>Non Fiction</td>\n",
       "    </tr>\n",
       "    <tr>\n",
       "      <th>123</th>\n",
       "      <td>Giraffes Can't Dance</td>\n",
       "      <td>Giles Andreae</td>\n",
       "      <td>4.8</td>\n",
       "      <td>14038</td>\n",
       "      <td>4</td>\n",
       "      <td>2015</td>\n",
       "      <td>Fiction</td>\n",
       "    </tr>\n",
       "    <tr>\n",
       "      <th>54</th>\n",
       "      <td>Creative Haven Creative Cats Coloring Book (Ad...</td>\n",
       "      <td>Marjorie Sarnat</td>\n",
       "      <td>4.8</td>\n",
       "      <td>4022</td>\n",
       "      <td>4</td>\n",
       "      <td>2015</td>\n",
       "      <td>Non Fiction</td>\n",
       "    </tr>\n",
       "    <tr>\n",
       "      <th>63</th>\n",
       "      <td>Dear Zoo: A Lift-the-Flap Book</td>\n",
       "      <td>Rod Campbell</td>\n",
       "      <td>4.8</td>\n",
       "      <td>10922</td>\n",
       "      <td>5</td>\n",
       "      <td>2015</td>\n",
       "      <td>Fiction</td>\n",
       "    </tr>\n",
       "    <tr>\n",
       "      <th>89</th>\n",
       "      <td>Dover Creative Haven Art Nouveau Animal Design...</td>\n",
       "      <td>Marty Noble</td>\n",
       "      <td>4.6</td>\n",
       "      <td>2134</td>\n",
       "      <td>5</td>\n",
       "      <td>2015</td>\n",
       "      <td>Non Fiction</td>\n",
       "    </tr>\n",
       "    <tr>\n",
       "      <th>478</th>\n",
       "      <td>The Very Hungry Caterpillar</td>\n",
       "      <td>Eric Carle</td>\n",
       "      <td>4.9</td>\n",
       "      <td>19546</td>\n",
       "      <td>5</td>\n",
       "      <td>2015</td>\n",
       "      <td>Fiction</td>\n",
       "    </tr>\n",
       "    <tr>\n",
       "      <th>201</th>\n",
       "      <td>Killing Reagan: The Violent Assault That Chang...</td>\n",
       "      <td>Bill O'Reilly</td>\n",
       "      <td>4.6</td>\n",
       "      <td>5235</td>\n",
       "      <td>5</td>\n",
       "      <td>2015</td>\n",
       "      <td>Non Fiction</td>\n",
       "    </tr>\n",
       "    <tr>\n",
       "      <th>28</th>\n",
       "      <td>Baby Touch and Feel: Animals</td>\n",
       "      <td>DK</td>\n",
       "      <td>4.6</td>\n",
       "      <td>5360</td>\n",
       "      <td>5</td>\n",
       "      <td>2015</td>\n",
       "      <td>Non Fiction</td>\n",
       "    </tr>\n",
       "    <tr>\n",
       "      <th>224</th>\n",
       "      <td>Love You Forever</td>\n",
       "      <td>Robert Munsch</td>\n",
       "      <td>4.8</td>\n",
       "      <td>18613</td>\n",
       "      <td>5</td>\n",
       "      <td>2015</td>\n",
       "      <td>Fiction</td>\n",
       "    </tr>\n",
       "    <tr>\n",
       "      <th>55</th>\n",
       "      <td>Creative Haven Owls Coloring Book (Adult Color...</td>\n",
       "      <td>Marjorie Sarnat</td>\n",
       "      <td>4.8</td>\n",
       "      <td>3871</td>\n",
       "      <td>5</td>\n",
       "      <td>2015</td>\n",
       "      <td>Non Fiction</td>\n",
       "    </tr>\n",
       "    <tr>\n",
       "      <th>17</th>\n",
       "      <td>Adult Coloring Book: Stress Relieving Patterns</td>\n",
       "      <td>Blue Star Coloring</td>\n",
       "      <td>4.4</td>\n",
       "      <td>2951</td>\n",
       "      <td>6</td>\n",
       "      <td>2015</td>\n",
       "      <td>Non Fiction</td>\n",
       "    </tr>\n",
       "    <tr>\n",
       "      <th>376</th>\n",
       "      <td>The Four Agreements: A Practical Guide to Pers...</td>\n",
       "      <td>Don Miguel Ruiz</td>\n",
       "      <td>4.7</td>\n",
       "      <td>23308</td>\n",
       "      <td>6</td>\n",
       "      <td>2015</td>\n",
       "      <td>Non Fiction</td>\n",
       "    </tr>\n",
       "    <tr>\n",
       "      <th>16</th>\n",
       "      <td>Adult Coloring Book: Stress Relieving Animal D...</td>\n",
       "      <td>Blue Star Coloring</td>\n",
       "      <td>4.6</td>\n",
       "      <td>2925</td>\n",
       "      <td>6</td>\n",
       "      <td>2015</td>\n",
       "      <td>Non Fiction</td>\n",
       "    </tr>\n",
       "    <tr>\n",
       "      <th>253</th>\n",
       "      <td>Old School (Diary of a Wimpy Kid #10)</td>\n",
       "      <td>Jeff Kinney</td>\n",
       "      <td>4.8</td>\n",
       "      <td>6169</td>\n",
       "      <td>7</td>\n",
       "      <td>2015</td>\n",
       "      <td>Fiction</td>\n",
       "    </tr>\n",
       "  </tbody>\n",
       "</table>\n",
       "</div>"
      ],
      "text/plain": [
       "                                                  name              author  \\\n",
       "507                              To Kill a Mockingbird          Harper Lee   \n",
       "210                      Laugh-Out-Loud Jokes for Kids         Rob Elliott   \n",
       "206                         Knock-Knock Jokes for Kids         Rob Elliott   \n",
       "111                                    First 100 Words        Roger Priddy   \n",
       "123                               Giraffes Can't Dance       Giles Andreae   \n",
       "54   Creative Haven Creative Cats Coloring Book (Ad...     Marjorie Sarnat   \n",
       "63                      Dear Zoo: A Lift-the-Flap Book        Rod Campbell   \n",
       "89   Dover Creative Haven Art Nouveau Animal Design...         Marty Noble   \n",
       "478                        The Very Hungry Caterpillar          Eric Carle   \n",
       "201  Killing Reagan: The Violent Assault That Chang...       Bill O'Reilly   \n",
       "28                        Baby Touch and Feel: Animals                  DK   \n",
       "224                                   Love You Forever       Robert Munsch   \n",
       "55   Creative Haven Owls Coloring Book (Adult Color...     Marjorie Sarnat   \n",
       "17      Adult Coloring Book: Stress Relieving Patterns  Blue Star Coloring   \n",
       "376  The Four Agreements: A Practical Guide to Pers...     Don Miguel Ruiz   \n",
       "16   Adult Coloring Book: Stress Relieving Animal D...  Blue Star Coloring   \n",
       "253              Old School (Diary of a Wimpy Kid #10)         Jeff Kinney   \n",
       "\n",
       "     user_rating  reviews  price  year        genre  \n",
       "507          4.8    26234      0  2015      Fiction  \n",
       "210          4.6     6990      4  2015  Non Fiction  \n",
       "206          4.5     3673      4  2015  Non Fiction  \n",
       "111          4.7    17323      4  2015  Non Fiction  \n",
       "123          4.8    14038      4  2015      Fiction  \n",
       "54           4.8     4022      4  2015  Non Fiction  \n",
       "63           4.8    10922      5  2015      Fiction  \n",
       "89           4.6     2134      5  2015  Non Fiction  \n",
       "478          4.9    19546      5  2015      Fiction  \n",
       "201          4.6     5235      5  2015  Non Fiction  \n",
       "28           4.6     5360      5  2015  Non Fiction  \n",
       "224          4.8    18613      5  2015      Fiction  \n",
       "55           4.8     3871      5  2015  Non Fiction  \n",
       "17           4.4     2951      6  2015  Non Fiction  \n",
       "376          4.7    23308      6  2015  Non Fiction  \n",
       "16           4.6     2925      6  2015  Non Fiction  \n",
       "253          4.8     6169      7  2015      Fiction  "
      ]
     },
     "execution_count": 22,
     "metadata": {},
     "output_type": "execute_result"
    }
   ],
   "source": [
    "books[(books['price'] < 8) & (books['year'] == 2015)].sort_values('price')"
   ]
  },
  {
   "cell_type": "markdown",
   "id": "3846a40d",
   "metadata": {},
   "source": [
    "### Яка книга остання у відсортованому списку? Відповідь: Old School (Diary of a Wimpy Kid #10)"
   ]
  },
  {
   "cell_type": "markdown",
   "id": "b263956c",
   "metadata": {},
   "source": [
    "### Остання секція цього домашнього завдання включає просунутіші функції. Але не хвилюйтеся, pandas робить усі операції простими та зрозумілими."
   ]
  },
  {
   "cell_type": "markdown",
   "id": "f3094403",
   "metadata": {
    "id": "cW4-gem34dY7"
   },
   "source": [
    "### Для початку давайте подивимося на максимальну та мінімальну ціни для кожного з жанрів (використовуйте функції groupby та agg, для підрахунку мінімальних та максимальних значень використовуйте max та min). Не беріть усі стовпці, виберете тільки потрібні вам\n",
    "- Максимальна ціна для жанру Fiction? Відповідь: 82\n",
    "- Мінімальна ціна для жанру Fiction? Відповідь: 0\n",
    "- Максимальна ціна для жанру Non Fiction? Відповідь: 105\n",
    "- Мінімальна ціна для жанру Non Fiction? Відповідь: 0"
   ]
  },
  {
   "cell_type": "code",
   "execution_count": 23,
   "id": "9f6e59d6",
   "metadata": {
    "colab": {
     "base_uri": "https://localhost:8080/",
     "height": 175
    },
    "id": "gzmC8dbj4mTU",
    "outputId": "a1cd958f-b242-4fe6-8a86-8d1b36d40bff"
   },
   "outputs": [
    {
     "data": {
      "text/html": [
       "<div>\n",
       "<style scoped>\n",
       "    .dataframe tbody tr th:only-of-type {\n",
       "        vertical-align: middle;\n",
       "    }\n",
       "\n",
       "    .dataframe tbody tr th {\n",
       "        vertical-align: top;\n",
       "    }\n",
       "\n",
       "    .dataframe thead tr th {\n",
       "        text-align: left;\n",
       "    }\n",
       "\n",
       "    .dataframe thead tr:last-of-type th {\n",
       "        text-align: right;\n",
       "    }\n",
       "</style>\n",
       "<table border=\"1\" class=\"dataframe\">\n",
       "  <thead>\n",
       "    <tr>\n",
       "      <th></th>\n",
       "      <th colspan=\"2\" halign=\"left\">price</th>\n",
       "    </tr>\n",
       "    <tr>\n",
       "      <th></th>\n",
       "      <th>amin</th>\n",
       "      <th>amax</th>\n",
       "    </tr>\n",
       "    <tr>\n",
       "      <th>genre</th>\n",
       "      <th></th>\n",
       "      <th></th>\n",
       "    </tr>\n",
       "  </thead>\n",
       "  <tbody>\n",
       "    <tr>\n",
       "      <th>Fiction</th>\n",
       "      <td>0</td>\n",
       "      <td>82</td>\n",
       "    </tr>\n",
       "    <tr>\n",
       "      <th>Non Fiction</th>\n",
       "      <td>0</td>\n",
       "      <td>105</td>\n",
       "    </tr>\n",
       "  </tbody>\n",
       "</table>\n",
       "</div>"
      ],
      "text/plain": [
       "            price     \n",
       "             amin amax\n",
       "genre                 \n",
       "Fiction         0   82\n",
       "Non Fiction     0  105"
      ]
     },
     "execution_count": 23,
     "metadata": {},
     "output_type": "execute_result"
    }
   ],
   "source": [
    "books.groupby(['genre'])[['price']].agg([np.min, np.max])"
   ]
  },
  {
   "cell_type": "markdown",
   "id": "e89c4b1c",
   "metadata": {
    "id": "d30HCcuf7tH5"
   },
   "source": [
    "### Тепер створіть новий датафрейм, який вміщатиме кількість книг для кожного з авторів (використовуйте функції groupby і agg, для підрахунку кількості використовуйте count). Не беріть усі стовпці, виберете тільки потрібні\n",
    "- Якої розмірності вийшла таблиця? Відповідь: (248, 1)\n",
    "- У якого автора найбільше книг? Відповідь: Jeff Kinney\n",
    "- Скільки книг у цього автора? Відповідь: 12"
   ]
  },
  {
   "cell_type": "code",
   "execution_count": 24,
   "id": "99b83928",
   "metadata": {
    "colab": {
     "base_uri": "https://localhost:8080/",
     "height": 455
    },
    "id": "hcqMG8ju7ybC",
    "outputId": "6ed373b7-c3cc-4652-bceb-dd455c484033"
   },
   "outputs": [
    {
     "data": {
      "text/html": [
       "<div>\n",
       "<style scoped>\n",
       "    .dataframe tbody tr th:only-of-type {\n",
       "        vertical-align: middle;\n",
       "    }\n",
       "\n",
       "    .dataframe tbody tr th {\n",
       "        vertical-align: top;\n",
       "    }\n",
       "\n",
       "    .dataframe thead th {\n",
       "        text-align: right;\n",
       "    }\n",
       "</style>\n",
       "<table border=\"1\" class=\"dataframe\">\n",
       "  <thead>\n",
       "    <tr style=\"text-align: right;\">\n",
       "      <th></th>\n",
       "      <th>name</th>\n",
       "    </tr>\n",
       "    <tr>\n",
       "      <th>author</th>\n",
       "      <th></th>\n",
       "    </tr>\n",
       "  </thead>\n",
       "  <tbody>\n",
       "    <tr>\n",
       "      <th>Abraham Verghese</th>\n",
       "      <td>2</td>\n",
       "    </tr>\n",
       "    <tr>\n",
       "      <th>Adam Gasiewski</th>\n",
       "      <td>1</td>\n",
       "    </tr>\n",
       "    <tr>\n",
       "      <th>Adam Mansbach</th>\n",
       "      <td>1</td>\n",
       "    </tr>\n",
       "    <tr>\n",
       "      <th>Adir Levy</th>\n",
       "      <td>1</td>\n",
       "    </tr>\n",
       "    <tr>\n",
       "      <th>Admiral William H. McRaven</th>\n",
       "      <td>1</td>\n",
       "    </tr>\n",
       "    <tr>\n",
       "      <th>...</th>\n",
       "      <td>...</td>\n",
       "    </tr>\n",
       "    <tr>\n",
       "      <th>Walter Isaacson</th>\n",
       "      <td>3</td>\n",
       "    </tr>\n",
       "    <tr>\n",
       "      <th>William Davis</th>\n",
       "      <td>2</td>\n",
       "    </tr>\n",
       "    <tr>\n",
       "      <th>William P. Young</th>\n",
       "      <td>2</td>\n",
       "    </tr>\n",
       "    <tr>\n",
       "      <th>Wizards RPG Team</th>\n",
       "      <td>3</td>\n",
       "    </tr>\n",
       "    <tr>\n",
       "      <th>Zhi Gang Sha</th>\n",
       "      <td>2</td>\n",
       "    </tr>\n",
       "  </tbody>\n",
       "</table>\n",
       "<p>248 rows × 1 columns</p>\n",
       "</div>"
      ],
      "text/plain": [
       "                            name\n",
       "author                          \n",
       "Abraham Verghese               2\n",
       "Adam Gasiewski                 1\n",
       "Adam Mansbach                  1\n",
       "Adir Levy                      1\n",
       "Admiral William H. McRaven     1\n",
       "...                          ...\n",
       "Walter Isaacson                3\n",
       "William Davis                  2\n",
       "William P. Young               2\n",
       "Wizards RPG Team               3\n",
       "Zhi Gang Sha                   2\n",
       "\n",
       "[248 rows x 1 columns]"
      ]
     },
     "execution_count": 24,
     "metadata": {},
     "output_type": "execute_result"
    }
   ],
   "source": [
    "author_books = books.groupby(['author'])[['name']].count()\n",
    "author_books"
   ]
  },
  {
   "cell_type": "code",
   "execution_count": 25,
   "id": "0037cd5f",
   "metadata": {
    "colab": {
     "base_uri": "https://localhost:8080/",
     "height": 112
    },
    "id": "HohOXUz284OZ",
    "outputId": "cc118a36-5187-45c3-fac4-9c0e3fa45083"
   },
   "outputs": [
    {
     "data": {
      "text/html": [
       "<div>\n",
       "<style scoped>\n",
       "    .dataframe tbody tr th:only-of-type {\n",
       "        vertical-align: middle;\n",
       "    }\n",
       "\n",
       "    .dataframe tbody tr th {\n",
       "        vertical-align: top;\n",
       "    }\n",
       "\n",
       "    .dataframe thead th {\n",
       "        text-align: right;\n",
       "    }\n",
       "</style>\n",
       "<table border=\"1\" class=\"dataframe\">\n",
       "  <thead>\n",
       "    <tr style=\"text-align: right;\">\n",
       "      <th></th>\n",
       "      <th>name</th>\n",
       "    </tr>\n",
       "    <tr>\n",
       "      <th>author</th>\n",
       "      <th></th>\n",
       "    </tr>\n",
       "  </thead>\n",
       "  <tbody>\n",
       "    <tr>\n",
       "      <th>Jeff Kinney</th>\n",
       "      <td>12</td>\n",
       "    </tr>\n",
       "  </tbody>\n",
       "</table>\n",
       "</div>"
      ],
      "text/plain": [
       "             name\n",
       "author           \n",
       "Jeff Kinney    12"
      ]
     },
     "execution_count": 25,
     "metadata": {},
     "output_type": "execute_result"
    }
   ],
   "source": [
    "author_books [author_books['name'] == author_books['name'].max()]"
   ]
  },
  {
   "cell_type": "markdown",
   "id": "75df2ee4",
   "metadata": {
    "id": "OJ5zFVUW9omu"
   },
   "source": [
    "### Тепер створіть другий датафрейм, який вміщуватиме середній рейтинг для кожного автора (використовуйте функції groupby та agg, для підрахунку середнього значення використовуйте mean). Не беріть усі стовпці, виберете тільки потрібні\n",
    "- У якого автора середній рейтинг мінімальний? Відповідь: Donna Tartt\n",
    "- Який у цього автора середній рейтинг? Відповідь: 3.9"
   ]
  },
  {
   "cell_type": "code",
   "execution_count": 26,
   "id": "c4707cbe",
   "metadata": {
    "colab": {
     "base_uri": "https://localhost:8080/",
     "height": 455
    },
    "id": "05QRZ4VA9sbI",
    "outputId": "fedd69e1-e080-416e-9317-7f775fa5ae3c"
   },
   "outputs": [
    {
     "data": {
      "text/html": [
       "<div>\n",
       "<style scoped>\n",
       "    .dataframe tbody tr th:only-of-type {\n",
       "        vertical-align: middle;\n",
       "    }\n",
       "\n",
       "    .dataframe tbody tr th {\n",
       "        vertical-align: top;\n",
       "    }\n",
       "\n",
       "    .dataframe thead th {\n",
       "        text-align: right;\n",
       "    }\n",
       "</style>\n",
       "<table border=\"1\" class=\"dataframe\">\n",
       "  <thead>\n",
       "    <tr style=\"text-align: right;\">\n",
       "      <th></th>\n",
       "      <th>user_rating</th>\n",
       "    </tr>\n",
       "    <tr>\n",
       "      <th>author</th>\n",
       "      <th></th>\n",
       "    </tr>\n",
       "  </thead>\n",
       "  <tbody>\n",
       "    <tr>\n",
       "      <th>Donna Tartt</th>\n",
       "      <td>3.9</td>\n",
       "    </tr>\n",
       "  </tbody>\n",
       "</table>\n",
       "</div>"
      ],
      "text/plain": [
       "             user_rating\n",
       "author                  \n",
       "Donna Tartt          3.9"
      ]
     },
     "execution_count": 26,
     "metadata": {},
     "output_type": "execute_result"
    }
   ],
   "source": [
    "avg_rating = books.groupby(['author'])[['user_rating']].agg(np.mean).round(1)\n",
    "avg_rating[avg_rating['user_rating'] == avg_rating['user_rating'].min()]"
   ]
  },
  {
   "cell_type": "markdown",
   "id": "93da9a6b",
   "metadata": {
    "id": "u_bBH81u_Suv"
   },
   "source": [
    "### З'єднайте останні два датафрейми так, щоб для кожного автора було видно кількість книг та середній рейтинг (Використовуйте функцію concat з параметром axis=1). Збережіть результат у змінну"
   ]
  },
  {
   "cell_type": "code",
   "execution_count": 27,
   "id": "51357fbf",
   "metadata": {
    "colab": {
     "base_uri": "https://localhost:8080/",
     "height": 455
    },
    "id": "uFo-AkkF_W_Q",
    "outputId": "6228f68c-c5b6-4180-92a2-56df954125de"
   },
   "outputs": [
    {
     "data": {
      "text/html": [
       "<div>\n",
       "<style scoped>\n",
       "    .dataframe tbody tr th:only-of-type {\n",
       "        vertical-align: middle;\n",
       "    }\n",
       "\n",
       "    .dataframe tbody tr th {\n",
       "        vertical-align: top;\n",
       "    }\n",
       "\n",
       "    .dataframe thead th {\n",
       "        text-align: right;\n",
       "    }\n",
       "</style>\n",
       "<table border=\"1\" class=\"dataframe\">\n",
       "  <thead>\n",
       "    <tr style=\"text-align: right;\">\n",
       "      <th></th>\n",
       "      <th>user_rating</th>\n",
       "      <th>name</th>\n",
       "    </tr>\n",
       "    <tr>\n",
       "      <th>author</th>\n",
       "      <th></th>\n",
       "      <th></th>\n",
       "    </tr>\n",
       "  </thead>\n",
       "  <tbody>\n",
       "    <tr>\n",
       "      <th>Abraham Verghese</th>\n",
       "      <td>4.6</td>\n",
       "      <td>2</td>\n",
       "    </tr>\n",
       "    <tr>\n",
       "      <th>Adam Gasiewski</th>\n",
       "      <td>4.4</td>\n",
       "      <td>1</td>\n",
       "    </tr>\n",
       "    <tr>\n",
       "      <th>Adam Mansbach</th>\n",
       "      <td>4.8</td>\n",
       "      <td>1</td>\n",
       "    </tr>\n",
       "    <tr>\n",
       "      <th>Adir Levy</th>\n",
       "      <td>4.8</td>\n",
       "      <td>1</td>\n",
       "    </tr>\n",
       "    <tr>\n",
       "      <th>Admiral William H. McRaven</th>\n",
       "      <td>4.7</td>\n",
       "      <td>1</td>\n",
       "    </tr>\n",
       "    <tr>\n",
       "      <th>...</th>\n",
       "      <td>...</td>\n",
       "      <td>...</td>\n",
       "    </tr>\n",
       "    <tr>\n",
       "      <th>Walter Isaacson</th>\n",
       "      <td>4.6</td>\n",
       "      <td>3</td>\n",
       "    </tr>\n",
       "    <tr>\n",
       "      <th>William Davis</th>\n",
       "      <td>4.4</td>\n",
       "      <td>2</td>\n",
       "    </tr>\n",
       "    <tr>\n",
       "      <th>William P. Young</th>\n",
       "      <td>4.6</td>\n",
       "      <td>2</td>\n",
       "    </tr>\n",
       "    <tr>\n",
       "      <th>Wizards RPG Team</th>\n",
       "      <td>4.8</td>\n",
       "      <td>3</td>\n",
       "    </tr>\n",
       "    <tr>\n",
       "      <th>Zhi Gang Sha</th>\n",
       "      <td>4.6</td>\n",
       "      <td>2</td>\n",
       "    </tr>\n",
       "  </tbody>\n",
       "</table>\n",
       "<p>248 rows × 2 columns</p>\n",
       "</div>"
      ],
      "text/plain": [
       "                            user_rating  name\n",
       "author                                       \n",
       "Abraham Verghese                    4.6     2\n",
       "Adam Gasiewski                      4.4     1\n",
       "Adam Mansbach                       4.8     1\n",
       "Adir Levy                           4.8     1\n",
       "Admiral William H. McRaven          4.7     1\n",
       "...                                 ...   ...\n",
       "Walter Isaacson                     4.6     3\n",
       "William Davis                       4.4     2\n",
       "William P. Young                    4.6     2\n",
       "Wizards RPG Team                    4.8     3\n",
       "Zhi Gang Sha                        4.6     2\n",
       "\n",
       "[248 rows x 2 columns]"
      ]
     },
     "execution_count": 27,
     "metadata": {},
     "output_type": "execute_result"
    }
   ],
   "source": [
    "book_and_rating = pd.concat([avg_rating, author_books], axis=1)\n",
    "book_and_rating"
   ]
  },
  {
   "cell_type": "markdown",
   "id": "9084fff3",
   "metadata": {
    "id": "Z2eJAPbgAB7u"
   },
   "source": [
    "### Відсортуйте датафрейм за зростаючою кількістю книг та зростаючим рейтингом (використовуйте функцію sort_values)\n",
    "- Який автор перший у списку? Відповідь: Muriel Barbery"
   ]
  },
  {
   "cell_type": "code",
   "execution_count": 28,
   "id": "e8ee605e",
   "metadata": {
    "colab": {
     "base_uri": "https://localhost:8080/",
     "height": 455
    },
    "id": "1OAf6zFVAFrN",
    "outputId": "266bb88c-fa62-4559-c14b-ccd73780e167"
   },
   "outputs": [
    {
     "data": {
      "text/html": [
       "<div>\n",
       "<style scoped>\n",
       "    .dataframe tbody tr th:only-of-type {\n",
       "        vertical-align: middle;\n",
       "    }\n",
       "\n",
       "    .dataframe tbody tr th {\n",
       "        vertical-align: top;\n",
       "    }\n",
       "\n",
       "    .dataframe thead th {\n",
       "        text-align: right;\n",
       "    }\n",
       "</style>\n",
       "<table border=\"1\" class=\"dataframe\">\n",
       "  <thead>\n",
       "    <tr style=\"text-align: right;\">\n",
       "      <th></th>\n",
       "      <th>user_rating</th>\n",
       "      <th>name</th>\n",
       "    </tr>\n",
       "    <tr>\n",
       "      <th>author</th>\n",
       "      <th></th>\n",
       "      <th></th>\n",
       "    </tr>\n",
       "  </thead>\n",
       "  <tbody>\n",
       "    <tr>\n",
       "      <th>Muriel Barbery</th>\n",
       "      <td>4.0</td>\n",
       "      <td>1</td>\n",
       "    </tr>\n",
       "    <tr>\n",
       "      <th>Chris Cleave</th>\n",
       "      <td>4.1</td>\n",
       "      <td>1</td>\n",
       "    </tr>\n",
       "    <tr>\n",
       "      <th>Ian K. Smith M.D.</th>\n",
       "      <td>4.1</td>\n",
       "      <td>1</td>\n",
       "    </tr>\n",
       "    <tr>\n",
       "      <th>Pierre Dukan</th>\n",
       "      <td>4.1</td>\n",
       "      <td>1</td>\n",
       "    </tr>\n",
       "    <tr>\n",
       "      <th>Elizabeth Strout</th>\n",
       "      <td>4.2</td>\n",
       "      <td>1</td>\n",
       "    </tr>\n",
       "    <tr>\n",
       "      <th>...</th>\n",
       "      <td>...</td>\n",
       "      <td>...</td>\n",
       "    </tr>\n",
       "    <tr>\n",
       "      <th>American Psychological Association</th>\n",
       "      <td>4.5</td>\n",
       "      <td>10</td>\n",
       "    </tr>\n",
       "    <tr>\n",
       "      <th>Gary Chapman</th>\n",
       "      <td>4.7</td>\n",
       "      <td>11</td>\n",
       "    </tr>\n",
       "    <tr>\n",
       "      <th>Suzanne Collins</th>\n",
       "      <td>4.7</td>\n",
       "      <td>11</td>\n",
       "    </tr>\n",
       "    <tr>\n",
       "      <th>Rick Riordan</th>\n",
       "      <td>4.8</td>\n",
       "      <td>11</td>\n",
       "    </tr>\n",
       "    <tr>\n",
       "      <th>Jeff Kinney</th>\n",
       "      <td>4.8</td>\n",
       "      <td>12</td>\n",
       "    </tr>\n",
       "  </tbody>\n",
       "</table>\n",
       "<p>248 rows × 2 columns</p>\n",
       "</div>"
      ],
      "text/plain": [
       "                                    user_rating  name\n",
       "author                                               \n",
       "Muriel Barbery                              4.0     1\n",
       "Chris Cleave                                4.1     1\n",
       "Ian K. Smith M.D.                           4.1     1\n",
       "Pierre Dukan                                4.1     1\n",
       "Elizabeth Strout                            4.2     1\n",
       "...                                         ...   ...\n",
       "American Psychological Association          4.5    10\n",
       "Gary Chapman                                4.7    11\n",
       "Suzanne Collins                             4.7    11\n",
       "Rick Riordan                                4.8    11\n",
       "Jeff Kinney                                 4.8    12\n",
       "\n",
       "[248 rows x 2 columns]"
      ]
     },
     "execution_count": 28,
     "metadata": {},
     "output_type": "execute_result"
    }
   ],
   "source": [
    "book_and_rating.sort_values(by=['name', 'user_rating'])"
   ]
  },
  {
   "cell_type": "code",
   "execution_count": null,
   "id": "ef781541",
   "metadata": {},
   "outputs": [],
   "source": []
  }
 ],
 "metadata": {
  "kernelspec": {
   "display_name": "Python 3 (ipykernel)",
   "language": "python",
   "name": "python3"
  },
  "language_info": {
   "codemirror_mode": {
    "name": "ipython",
    "version": 3
   },
   "file_extension": ".py",
   "mimetype": "text/x-python",
   "name": "python",
   "nbconvert_exporter": "python",
   "pygments_lexer": "ipython3",
   "version": "3.9.13"
  }
 },
 "nbformat": 4,
 "nbformat_minor": 5
}
