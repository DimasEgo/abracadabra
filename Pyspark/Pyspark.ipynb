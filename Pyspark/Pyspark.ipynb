{
 "cells": [
  {
   "cell_type": "code",
   "execution_count": null,
   "id": "979fb639",
   "metadata": {},
   "outputs": [],
   "source": [
    "!pip install pyspark"
   ]
  },
  {
   "cell_type": "markdown",
   "id": "8fefb0ea",
   "metadata": {},
   "source": [
    "# 1"
   ]
  },
  {
   "cell_type": "code",
   "execution_count": null,
   "id": "37913e4d",
   "metadata": {},
   "outputs": [],
   "source": [
    "import pandas as pd\n",
    "import pyspark\n",
    "import seaborn as sns\n",
    "from pyspark.sql import SparkSession\n",
    "from pyspark.sql.functions import mean, stddev, round as _round\n",
    "from matplotlib import pyplot as plt\n",
    "import seaborn as sns\n",
    "\n",
    "spark_session = SparkSession.builder.getOrCreate()\n",
    "\n",
    "df = spark_session.read.csv(\"https://drive.google.com/file/d/1eTEbn59Q6ZwVbSIeqtZwYgOeJkta1ipi/view?usp=sharing\")\n",
    "df.show()\n",
    "\n",
    "df2 = df.filter(\"_c2 > 4.7\")\n",
    "df2.select(mean(\"_c4\").alias(\"average price\")).show()"
   ]
  },
  {
   "cell_type": "code",
   "execution_count": null,
   "id": "7d080943",
   "metadata": {},
   "outputs": [],
   "source": [
    "df=spark_session.read.option(\"header\",\"true\").csv(\"bestsellers with categories.csv\")\n",
    "df.show()\n",
    "df3 = df.select(\"Reviews\")\n",
    "df3.toPandas()[[\"Reviews\"]].astype('float64').hist(column = \"Reviews\")\n",
    "plt.show()"
   ]
  },
  {
   "cell_type": "code",
   "execution_count": null,
   "id": "fcd7de7c",
   "metadata": {},
   "outputs": [],
   "source": [
    "df=spark_session.read.option(\"header\",\"true\").csv(\"bestsellers with categories.csv\")\n",
    "df.show()\n",
    "df_matrix = df.select(\"User Rating\", \"Reviews\", \"Price\")\n",
    "df_matrix.show()"
   ]
  },
  {
   "cell_type": "code",
   "execution_count": null,
   "id": "a61d25b0",
   "metadata": {},
   "outputs": [],
   "source": [
    "df=spark_session.read.option(\"header\",\"true\").csv(\"bestsellers with categories.csv\")\n",
    "df.show()\n",
    "df_matrix = df.select(df[\"User Rating\"].astype('float'), df.Reviews.astype('float'), df.Price.astype('float'))\n",
    "df_matrix.show()\n",
    "df_matrix.toPandas().corr()\n",
    "df4 = df_matrix.toPandas()\n",
    "sns.pairplot(df4)\n",
    "plt.show()"
   ]
  },
  {
   "cell_type": "markdown",
   "id": "77a5ffa3",
   "metadata": {},
   "source": [
    "# 2"
   ]
  },
  {
   "cell_type": "code",
   "execution_count": null,
   "id": "0966884e",
   "metadata": {},
   "outputs": [],
   "source": [
    "df = spark_session.read.csv(\"bestsellers with categories.csv\")\n",
    "df.show()\n",
    "#Знайдіть автора з найвищим рейтингом.\n",
    "df.createOrReplaceTempView(\"My_df\")\n",
    "spark_session.sql(\"Select _c1, max(_c2) From My_df Group By _c1 Order by max(_c2) desc \").show()\n",
    "\n",
    "#Знайдіть трьох авторів із найнижчим рейтингом.\n",
    "df.createOrReplaceTempView(\"My_df\")\n",
    "spark_session.sql(\"Select _c1, min(_c2) From My_df Group By _c1 Order by min(_c2) asc Limit 3\").show()\n",
    "\n",
    "#Визначте, яка книга жанру \"Fiction\" має найменший рейтинг.\n",
    "df.createOrReplaceTempView(\"My_df\")\n",
    "spark_session.sql(\"Select _c0, _c2, _c6 From My_df Where _c6 = 'Fiction' Order by _c2 asc\").show()\n",
    "\n",
    "#Визначте, яка книга жанру \"Non Fiction\" має найвищий рейтинг\n",
    "df.createOrReplaceTempView(\"My_df\")\n",
    "spark_session.sql(\"Select _c0, _c2, _c6 From My_df Where _c6 = 'Non Fiction' Order by _c2 desc\").show()"
   ]
  },
  {
   "cell_type": "code",
   "execution_count": null,
   "id": "57ed561a",
   "metadata": {},
   "outputs": [],
   "source": [
    "df=spark_session.read.option(\"header\",\"true\").csv(\"bestsellers with categories.csv\")\n",
    "df.show()\n",
    "\n",
    "#Визначте, який автор отримав найбільшу кількість рецензій.\n",
    "df.createOrReplaceTempView(\"df3\")\n",
    "spark_session.sql(\"Select Author, Reviews From df3 Order by Reviews desc\").show()\n",
    "\n",
    "#Визначте, який автор написав найбільшу кількість книг за весь доступний у даних період.\n",
    "df.createOrReplaceTempView(\"My_df\")\n",
    "spark_session.sql(\"Select Author, count(Author) From My_df Group By Author\").show()"
   ]
  },
  {
   "cell_type": "markdown",
   "id": "b6ed5dda",
   "metadata": {},
   "source": [
    "# 3"
   ]
  },
  {
   "cell_type": "code",
   "execution_count": null,
   "id": "3747689b",
   "metadata": {},
   "outputs": [],
   "source": [
    "import matplotlib.pyplot as plt\n",
    "import pandas as pd\n",
    "import pyspark\n",
    "from pyspark.sql import SparkSession\n",
    "import seaborn as sns\n",
    "\n",
    "spark_session = SparkSession.builder.getOrCreate()\n",
    "\n",
    "df=spark_session.read.option(\"header\",\"true\").csv(\"bestsellers with categories.csv\")\n",
    "df.show()\n",
    "\n",
    "df_avg = df.groupBy(\"Year\").agg({\"Reviews\": \"avg\"})\n",
    "df_avg.show()\n",
    "\n",
    "df_avg.toPandas().plot(x=\"Year\", y=\"avg(Reviews)\", kind = \"bar\")\n",
    "plt.show()"
   ]
  }
 ],
 "metadata": {
  "kernelspec": {
   "display_name": "Python 3 (ipykernel)",
   "language": "python",
   "name": "python3"
  },
  "language_info": {
   "codemirror_mode": {
    "name": "ipython",
    "version": 3
   },
   "file_extension": ".py",
   "mimetype": "text/x-python",
   "name": "python",
   "nbconvert_exporter": "python",
   "pygments_lexer": "ipython3",
   "version": "3.9.13"
  }
 },
 "nbformat": 4,
 "nbformat_minor": 5
}
