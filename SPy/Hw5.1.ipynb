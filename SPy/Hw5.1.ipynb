{
 "cells": [
  {
   "cell_type": "code",
   "execution_count": 13,
   "id": "ea7b5104",
   "metadata": {},
   "outputs": [],
   "source": [
    "from scipy.optimize import minimize"
   ]
  },
  {
   "cell_type": "code",
   "execution_count": 14,
   "id": "289a1a15",
   "metadata": {},
   "outputs": [],
   "source": [
    "def func(args):\n",
    "    x, y = args\n",
    "    return 2 * x + y"
   ]
  },
  {
   "cell_type": "code",
   "execution_count": 17,
   "id": "c08febee",
   "metadata": {},
   "outputs": [],
   "source": [
    "xbounds = (0, None)\n",
    "ybounds = (0, None)\n",
    "bounds = (xbounds, ybounds)\n",
    "cons = ({'type': 'eq', 'fun': lambda x:  x[0] * x[1] - 1000})\n",
    "result = minimize(func,  (0, 1000), bounds = bounds, constraints = cons)"
   ]
  },
  {
   "cell_type": "code",
   "execution_count": 18,
   "id": "be2a1efa",
   "metadata": {},
   "outputs": [
    {
     "data": {
      "text/plain": [
       "     fun: 89.4427190995034\n",
       "     jac: array([2., 1.])\n",
       " message: 'Optimization terminated successfully'\n",
       "    nfev: 95\n",
       "     nit: 29\n",
       "    njev: 29\n",
       "  status: 0\n",
       " success: True\n",
       "       x: array([22.3606812 , 44.72135669])"
      ]
     },
     "execution_count": 18,
     "metadata": {},
     "output_type": "execute_result"
    }
   ],
   "source": [
    "result"
   ]
  },
  {
   "cell_type": "code",
   "execution_count": null,
   "id": "3d925290",
   "metadata": {},
   "outputs": [],
   "source": []
  }
 ],
 "metadata": {
  "kernelspec": {
   "display_name": "Python 3 (ipykernel)",
   "language": "python",
   "name": "python3"
  },
  "language_info": {
   "codemirror_mode": {
    "name": "ipython",
    "version": 3
   },
   "file_extension": ".py",
   "mimetype": "text/x-python",
   "name": "python",
   "nbconvert_exporter": "python",
   "pygments_lexer": "ipython3",
   "version": "3.9.13"
  }
 },
 "nbformat": 4,
 "nbformat_minor": 5
}
